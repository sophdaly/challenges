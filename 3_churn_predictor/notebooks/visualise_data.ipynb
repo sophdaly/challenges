{
 "cells": [
  {
   "cell_type": "markdown",
   "metadata": {},
   "source": [
    "# Visualise Data\n",
    "\n",
    "The purpose of this notebook is to visualise important aspects of the data."
   ]
  },
  {
   "cell_type": "markdown",
   "metadata": {},
   "source": [
    "## Assignment\n",
    "\n",
    "- What insights can you provide the business based on the data?\n",
    "- Please describe the process and tools that you utilized to ‘clean’ and analyze the data.\n",
    "- Are there customer variables that are closely related to renewals or churn? \n",
    "- How would you communicate your findings to a business stakeholder responsible for driving retention?\n",
    "- How would you visualize this data in a concise, easily consumable format?  Feel free to provide example view.\n",
    "- Would you make a recommendation to the business based on this info?\n",
    "- What additional information would you look for in order to expand your analysis?\n",
    "- Any other items you would want to add?"
   ]
  },
  {
   "cell_type": "markdown",
   "metadata": {},
   "source": [
    "## Questions to Answer\n",
    "\n",
    "- How many new clients did we gain/lose every year?\n",
    "- What share of our income comes from high usage clients? \n",
    "- Who are our most valuable clients? \n",
    "- How important is loyalty: revenue vs years active\n",
    "- What are our most valuable markets?\n",
    "- Where are our most valuable countries?\n",
    "- When do we make the most during the year?\n",
    "- How does usage differ between churners/renewers?"
   ]
  },
  {
   "cell_type": "code",
   "execution_count": 1,
   "metadata": {},
   "outputs": [],
   "source": [
    "%matplotlib inline\n",
    "\n",
    "import matplotlib.pyplot as plt\n",
    "import seaborn as sns\n",
    "import pandas as pd\n",
    "import numpy as np"
   ]
  },
  {
   "cell_type": "code",
   "execution_count": 2,
   "metadata": {},
   "outputs": [],
   "source": [
    "df = pd.read_csv('../data/cleaned_data.csv')"
   ]
  },
  {
   "cell_type": "code",
   "execution_count": 3,
   "metadata": {},
   "outputs": [
    {
     "name": "stdout",
     "output_type": "stream",
     "text": [
      "Total RENEW: 46718 [81.109%]\n",
      "Total CHURN: 10881 [18.891%]\n"
     ]
    }
   ],
   "source": [
    "renew = df.loc[df.Renew_Status == 'RENEW']\n",
    "churn = df.loc[df.Renew_Status == 'CHURN']\n",
    "\n",
    "total = len(df)\n",
    "\n",
    "print(\"Total RENEW: {} [{:.3f}%]\".format(len(renew), (len(renew) / total * 100.0)))\n",
    "print(\"Total CHURN: {} [{:.3f}%]\".format(len(churn), (len(churn) / total * 100.0)))"
   ]
  },
  {
   "cell_type": "code",
   "execution_count": 55,
   "metadata": {},
   "outputs": [
    {
     "data": {
      "text/html": [
       "<div>\n",
       "<style scoped>\n",
       "    .dataframe tbody tr th:only-of-type {\n",
       "        vertical-align: middle;\n",
       "    }\n",
       "\n",
       "    .dataframe tbody tr th {\n",
       "        vertical-align: top;\n",
       "    }\n",
       "\n",
       "    .dataframe thead th {\n",
       "        text-align: right;\n",
       "    }\n",
       "</style>\n",
       "<table border=\"1\" class=\"dataframe\">\n",
       "  <thead>\n",
       "    <tr style=\"text-align: right;\">\n",
       "      <th></th>\n",
       "      <th>userid</th>\n",
       "      <th>first_purchase_date</th>\n",
       "      <th>renewal_date</th>\n",
       "      <th>renewal_amount_due_usd</th>\n",
       "      <th>licenses</th>\n",
       "      <th>assigned_licenses</th>\n",
       "      <th>market</th>\n",
       "      <th>billing_country</th>\n",
       "      <th>billing_state</th>\n",
       "      <th>channel</th>\n",
       "      <th>...</th>\n",
       "      <th>total_participants</th>\n",
       "      <th>webcam_duration</th>\n",
       "      <th>audio_duration</th>\n",
       "      <th>Renew_Status</th>\n",
       "      <th>first_purchase_year</th>\n",
       "      <th>first_purchase_month</th>\n",
       "      <th>renewal_month</th>\n",
       "      <th>renewal_year</th>\n",
       "      <th>years_active</th>\n",
       "      <th>renewal_amount_due_usd_per_license</th>\n",
       "    </tr>\n",
       "    <tr>\n",
       "      <th>first_purchase_year</th>\n",
       "      <th></th>\n",
       "      <th></th>\n",
       "      <th></th>\n",
       "      <th></th>\n",
       "      <th></th>\n",
       "      <th></th>\n",
       "      <th></th>\n",
       "      <th></th>\n",
       "      <th></th>\n",
       "      <th></th>\n",
       "      <th></th>\n",
       "      <th></th>\n",
       "      <th></th>\n",
       "      <th></th>\n",
       "      <th></th>\n",
       "      <th></th>\n",
       "      <th></th>\n",
       "      <th></th>\n",
       "      <th></th>\n",
       "      <th></th>\n",
       "      <th></th>\n",
       "    </tr>\n",
       "  </thead>\n",
       "  <tbody>\n",
       "    <tr>\n",
       "      <th>2010.0</th>\n",
       "      <td>2789</td>\n",
       "      <td>221</td>\n",
       "      <td>138</td>\n",
       "      <td>1690</td>\n",
       "      <td>182</td>\n",
       "      <td>183</td>\n",
       "      <td>3</td>\n",
       "      <td>36</td>\n",
       "      <td>75</td>\n",
       "      <td>2</td>\n",
       "      <td>...</td>\n",
       "      <td>514</td>\n",
       "      <td>659</td>\n",
       "      <td>2319</td>\n",
       "      <td>2</td>\n",
       "      <td>1</td>\n",
       "      <td>12</td>\n",
       "      <td>5</td>\n",
       "      <td>1</td>\n",
       "      <td>1</td>\n",
       "      <td>1421</td>\n",
       "    </tr>\n",
       "    <tr>\n",
       "      <th>2011.0</th>\n",
       "      <td>1125</td>\n",
       "      <td>216</td>\n",
       "      <td>132</td>\n",
       "      <td>694</td>\n",
       "      <td>96</td>\n",
       "      <td>113</td>\n",
       "      <td>3</td>\n",
       "      <td>29</td>\n",
       "      <td>95</td>\n",
       "      <td>2</td>\n",
       "      <td>...</td>\n",
       "      <td>261</td>\n",
       "      <td>313</td>\n",
       "      <td>919</td>\n",
       "      <td>2</td>\n",
       "      <td>1</td>\n",
       "      <td>12</td>\n",
       "      <td>5</td>\n",
       "      <td>1</td>\n",
       "      <td>1</td>\n",
       "      <td>509</td>\n",
       "    </tr>\n",
       "    <tr>\n",
       "      <th>2012.0</th>\n",
       "      <td>3074</td>\n",
       "      <td>328</td>\n",
       "      <td>138</td>\n",
       "      <td>1190</td>\n",
       "      <td>119</td>\n",
       "      <td>139</td>\n",
       "      <td>3</td>\n",
       "      <td>52</td>\n",
       "      <td>148</td>\n",
       "      <td>2</td>\n",
       "      <td>...</td>\n",
       "      <td>333</td>\n",
       "      <td>639</td>\n",
       "      <td>2119</td>\n",
       "      <td>2</td>\n",
       "      <td>1</td>\n",
       "      <td>12</td>\n",
       "      <td>5</td>\n",
       "      <td>1</td>\n",
       "      <td>1</td>\n",
       "      <td>876</td>\n",
       "    </tr>\n",
       "    <tr>\n",
       "      <th>2013.0</th>\n",
       "      <td>11134</td>\n",
       "      <td>365</td>\n",
       "      <td>138</td>\n",
       "      <td>1305</td>\n",
       "      <td>99</td>\n",
       "      <td>115</td>\n",
       "      <td>3</td>\n",
       "      <td>80</td>\n",
       "      <td>299</td>\n",
       "      <td>2</td>\n",
       "      <td>...</td>\n",
       "      <td>283</td>\n",
       "      <td>883</td>\n",
       "      <td>4053</td>\n",
       "      <td>2</td>\n",
       "      <td>1</td>\n",
       "      <td>12</td>\n",
       "      <td>5</td>\n",
       "      <td>1</td>\n",
       "      <td>1</td>\n",
       "      <td>989</td>\n",
       "    </tr>\n",
       "    <tr>\n",
       "      <th>2014.0</th>\n",
       "      <td>8722</td>\n",
       "      <td>363</td>\n",
       "      <td>138</td>\n",
       "      <td>1268</td>\n",
       "      <td>115</td>\n",
       "      <td>124</td>\n",
       "      <td>3</td>\n",
       "      <td>89</td>\n",
       "      <td>337</td>\n",
       "      <td>2</td>\n",
       "      <td>...</td>\n",
       "      <td>310</td>\n",
       "      <td>844</td>\n",
       "      <td>3520</td>\n",
       "      <td>2</td>\n",
       "      <td>1</td>\n",
       "      <td>12</td>\n",
       "      <td>5</td>\n",
       "      <td>1</td>\n",
       "      <td>1</td>\n",
       "      <td>969</td>\n",
       "    </tr>\n",
       "    <tr>\n",
       "      <th>2015.0</th>\n",
       "      <td>7098</td>\n",
       "      <td>347</td>\n",
       "      <td>138</td>\n",
       "      <td>1165</td>\n",
       "      <td>90</td>\n",
       "      <td>105</td>\n",
       "      <td>3</td>\n",
       "      <td>87</td>\n",
       "      <td>334</td>\n",
       "      <td>2</td>\n",
       "      <td>...</td>\n",
       "      <td>275</td>\n",
       "      <td>812</td>\n",
       "      <td>3053</td>\n",
       "      <td>2</td>\n",
       "      <td>1</td>\n",
       "      <td>12</td>\n",
       "      <td>5</td>\n",
       "      <td>1</td>\n",
       "      <td>1</td>\n",
       "      <td>872</td>\n",
       "    </tr>\n",
       "    <tr>\n",
       "      <th>2016.0</th>\n",
       "      <td>9178</td>\n",
       "      <td>345</td>\n",
       "      <td>138</td>\n",
       "      <td>1191</td>\n",
       "      <td>98</td>\n",
       "      <td>109</td>\n",
       "      <td>3</td>\n",
       "      <td>95</td>\n",
       "      <td>479</td>\n",
       "      <td>2</td>\n",
       "      <td>...</td>\n",
       "      <td>293</td>\n",
       "      <td>918</td>\n",
       "      <td>3445</td>\n",
       "      <td>2</td>\n",
       "      <td>1</td>\n",
       "      <td>12</td>\n",
       "      <td>5</td>\n",
       "      <td>1</td>\n",
       "      <td>1</td>\n",
       "      <td>877</td>\n",
       "    </tr>\n",
       "    <tr>\n",
       "      <th>2017.0</th>\n",
       "      <td>14063</td>\n",
       "      <td>225</td>\n",
       "      <td>138</td>\n",
       "      <td>949</td>\n",
       "      <td>75</td>\n",
       "      <td>81</td>\n",
       "      <td>3</td>\n",
       "      <td>106</td>\n",
       "      <td>574</td>\n",
       "      <td>2</td>\n",
       "      <td>...</td>\n",
       "      <td>255</td>\n",
       "      <td>1041</td>\n",
       "      <td>4165</td>\n",
       "      <td>2</td>\n",
       "      <td>1</td>\n",
       "      <td>12</td>\n",
       "      <td>5</td>\n",
       "      <td>1</td>\n",
       "      <td>1</td>\n",
       "      <td>690</td>\n",
       "    </tr>\n",
       "    <tr>\n",
       "      <th>2018.0</th>\n",
       "      <td>1</td>\n",
       "      <td>1</td>\n",
       "      <td>1</td>\n",
       "      <td>1</td>\n",
       "      <td>1</td>\n",
       "      <td>1</td>\n",
       "      <td>1</td>\n",
       "      <td>1</td>\n",
       "      <td>1</td>\n",
       "      <td>1</td>\n",
       "      <td>...</td>\n",
       "      <td>1</td>\n",
       "      <td>1</td>\n",
       "      <td>1</td>\n",
       "      <td>1</td>\n",
       "      <td>1</td>\n",
       "      <td>1</td>\n",
       "      <td>1</td>\n",
       "      <td>1</td>\n",
       "      <td>1</td>\n",
       "      <td>1</td>\n",
       "    </tr>\n",
       "  </tbody>\n",
       "</table>\n",
       "<p>9 rows × 23 columns</p>\n",
       "</div>"
      ],
      "text/plain": [
       "                     userid  first_purchase_date  renewal_date  \\\n",
       "first_purchase_year                                              \n",
       "2010.0                 2789                  221           138   \n",
       "2011.0                 1125                  216           132   \n",
       "2012.0                 3074                  328           138   \n",
       "2013.0                11134                  365           138   \n",
       "2014.0                 8722                  363           138   \n",
       "2015.0                 7098                  347           138   \n",
       "2016.0                 9178                  345           138   \n",
       "2017.0                14063                  225           138   \n",
       "2018.0                    1                    1             1   \n",
       "\n",
       "                     renewal_amount_due_usd  licenses  assigned_licenses  \\\n",
       "first_purchase_year                                                        \n",
       "2010.0                                 1690       182                183   \n",
       "2011.0                                  694        96                113   \n",
       "2012.0                                 1190       119                139   \n",
       "2013.0                                 1305        99                115   \n",
       "2014.0                                 1268       115                124   \n",
       "2015.0                                 1165        90                105   \n",
       "2016.0                                 1191        98                109   \n",
       "2017.0                                  949        75                 81   \n",
       "2018.0                                    1         1                  1   \n",
       "\n",
       "                     market  billing_country  billing_state  channel  \\\n",
       "first_purchase_year                                                    \n",
       "2010.0                    3               36             75        2   \n",
       "2011.0                    3               29             95        2   \n",
       "2012.0                    3               52            148        2   \n",
       "2013.0                    3               80            299        2   \n",
       "2014.0                    3               89            337        2   \n",
       "2015.0                    3               87            334        2   \n",
       "2016.0                    3               95            479        2   \n",
       "2017.0                    3              106            574        2   \n",
       "2018.0                    1                1              1        1   \n",
       "\n",
       "                                    ...                  total_participants  \\\n",
       "first_purchase_year                 ...                                       \n",
       "2010.0                              ...                                 514   \n",
       "2011.0                              ...                                 261   \n",
       "2012.0                              ...                                 333   \n",
       "2013.0                              ...                                 283   \n",
       "2014.0                              ...                                 310   \n",
       "2015.0                              ...                                 275   \n",
       "2016.0                              ...                                 293   \n",
       "2017.0                              ...                                 255   \n",
       "2018.0                              ...                                   1   \n",
       "\n",
       "                     webcam_duration  audio_duration  Renew_Status  \\\n",
       "first_purchase_year                                                  \n",
       "2010.0                           659            2319             2   \n",
       "2011.0                           313             919             2   \n",
       "2012.0                           639            2119             2   \n",
       "2013.0                           883            4053             2   \n",
       "2014.0                           844            3520             2   \n",
       "2015.0                           812            3053             2   \n",
       "2016.0                           918            3445             2   \n",
       "2017.0                          1041            4165             2   \n",
       "2018.0                             1               1             1   \n",
       "\n",
       "                     first_purchase_year  first_purchase_month  renewal_month  \\\n",
       "first_purchase_year                                                             \n",
       "2010.0                                 1                    12              5   \n",
       "2011.0                                 1                    12              5   \n",
       "2012.0                                 1                    12              5   \n",
       "2013.0                                 1                    12              5   \n",
       "2014.0                                 1                    12              5   \n",
       "2015.0                                 1                    12              5   \n",
       "2016.0                                 1                    12              5   \n",
       "2017.0                                 1                    12              5   \n",
       "2018.0                                 1                     1              1   \n",
       "\n",
       "                     renewal_year  years_active  \\\n",
       "first_purchase_year                               \n",
       "2010.0                          1             1   \n",
       "2011.0                          1             1   \n",
       "2012.0                          1             1   \n",
       "2013.0                          1             1   \n",
       "2014.0                          1             1   \n",
       "2015.0                          1             1   \n",
       "2016.0                          1             1   \n",
       "2017.0                          1             1   \n",
       "2018.0                          1             1   \n",
       "\n",
       "                     renewal_amount_due_usd_per_license  \n",
       "first_purchase_year                                      \n",
       "2010.0                                             1421  \n",
       "2011.0                                              509  \n",
       "2012.0                                              876  \n",
       "2013.0                                              989  \n",
       "2014.0                                              969  \n",
       "2015.0                                              872  \n",
       "2016.0                                              877  \n",
       "2017.0                                              690  \n",
       "2018.0                                                1  \n",
       "\n",
       "[9 rows x 23 columns]"
      ]
     },
     "execution_count": 55,
     "metadata": {},
     "output_type": "execute_result"
    }
   ],
   "source": [
    "df.groupby('first_purchase_year').nunique()"
   ]
  },
  {
   "cell_type": "code",
   "execution_count": 60,
   "metadata": {},
   "outputs": [
    {
     "data": {
      "text/plain": [
       "[2016.0, 2017.0, 2018.0, 2010.0, 2011.0, 2012.0, 2013.0, 2014.0, 2015.0]"
      ]
     },
     "execution_count": 60,
     "metadata": {},
     "output_type": "execute_result"
    }
   ],
   "source": [
    "years"
   ]
  },
  {
   "cell_type": "code",
   "execution_count": 61,
   "metadata": {},
   "outputs": [
    {
     "data": {
      "text/plain": [
       "userid                                    605751\n",
       "first_purchase_date                   2015-06-25\n",
       "renewal_date                          2018-06-26\n",
       "renewal_amount_due_usd                      4800\n",
       "licenses                                      20\n",
       "assigned_licenses                             52\n",
       "market                                       ROW\n",
       "billing_country                               US\n",
       "billing_state                                 IN\n",
       "channel                                  offline\n",
       "total_meetings_30days                        620\n",
       "total_meetings_30to60days                    364\n",
       "meetingdays                                   31\n",
       "total_participants                           386\n",
       "webcam_duration                              368\n",
       "audio_duration                           52220.5\n",
       "Renew_Status                               RENEW\n",
       "first_purchase_year                         2015\n",
       "first_purchase_month                           6\n",
       "renewal_month                                  6\n",
       "renewal_year                                2018\n",
       "years_active                                   3\n",
       "renewal_amount_due_usd_per_license           240\n",
       "Name: 0, dtype: object"
      ]
     },
     "execution_count": 61,
     "metadata": {},
     "output_type": "execute_result"
    }
   ],
   "source": [
    "df.iloc[0]"
   ]
  },
  {
   "cell_type": "code",
   "execution_count": 33,
   "metadata": {},
   "outputs": [
    {
     "data": {
      "text/plain": [
       "userid                                57599\n",
       "first_purchase_date                   57597\n",
       "renewal_date                          57599\n",
       "renewal_amount_due_usd                57599\n",
       "licenses                              57599\n",
       "assigned_licenses                     57599\n",
       "market                                54724\n",
       "billing_country                       53839\n",
       "billing_state                         45518\n",
       "channel                               57599\n",
       "total_meetings_30days                 57599\n",
       "total_meetings_30to60days             57599\n",
       "meetingdays                           57599\n",
       "total_participants                    40526\n",
       "webcam_duration                       40351\n",
       "audio_duration                        57599\n",
       "Renew_Status                          57599\n",
       "first_purchase_year                   57597\n",
       "first_purchase_month                  57597\n",
       "renewal_month                         57599\n",
       "renewal_year                          57599\n",
       "years_active                          57597\n",
       "renewal_amount_due_usd_per_license    57599\n",
       "dtype: int64"
      ]
     },
     "execution_count": 33,
     "metadata": {},
     "output_type": "execute_result"
    }
   ],
   "source": [
    "df.count()"
   ]
  },
  {
   "cell_type": "code",
   "execution_count": null,
   "metadata": {},
   "outputs": [],
   "source": []
  },
  {
   "cell_type": "code",
   "execution_count": 27,
   "metadata": {},
   "outputs": [
    {
     "data": {
      "text/plain": [
       "1333"
      ]
     },
     "execution_count": 27,
     "metadata": {},
     "output_type": "execute_result"
    }
   ],
   "source": [
    "sum(df.head().licenses)"
   ]
  },
  {
   "cell_type": "markdown",
   "metadata": {},
   "source": [
    "# Visualise Customers"
   ]
  },
  {
   "cell_type": "code",
   "execution_count": 165,
   "metadata": {},
   "outputs": [],
   "source": [
    "years, users, online, offline, eng_emea, non_eng_emea, row, licenses, revenue = [],[],[],[],[],[],[],[],[]\n",
    "\n",
    "for yr in list(set(df.dropna(subset=['first_purchase_year']).first_purchase_year)):\n",
    "\n",
    "    yr_df = df.loc[df.first_purchase_year == yr]\n",
    "    online_df = yr_df.loc[yr_df.channel == 'online']\n",
    "    offline_df = yr_df.loc[yr_df.channel == 'offline']\n",
    "    eng_emea_df = yr_df.loc[yr_df.market == 'ENG EMEA']\n",
    "    non_eng_emea_df = yr_df.loc[yr_df.market == 'NON ENG EMEA']\n",
    "    row_df = yr_df.loc[yr_df.market == 'ROW']\n",
    "    \n",
    "    years.append(int(yr))\n",
    "    online.append(len(online_df))\n",
    "    offline.append(len(offline_df))\n",
    "    eng_emea.append(len(eng_emea_df))\n",
    "    non_eng_emea.append(len(non_eng_emea_df))\n",
    "    row.append(len(row_df))\n",
    "    licenses.append(sum(yr_df.licenses))\n",
    "    users.append(len(yr_df))\n",
    "    revenue.append(sum(yr_df.renewal_amount_due_usd))\n",
    "    \n",
    "count_df = pd.DataFrame({\n",
    "    'year': years,\n",
    "    'users': users,\n",
    "    'online': online,\n",
    "    'offline': offline,\n",
    "    'eng_emea': eng_emea,\n",
    "    'non_eng_emea': non_eng_emea,\n",
    "    'row': row,\n",
    "    'licenses': licenses,\n",
    "    'revenue': revenue\n",
    "})\n",
    "\n",
    "count_df = count_df.sort_values(by='year')\n",
    "count_df = count_df.set_index('year')"
   ]
  },
  {
   "cell_type": "code",
   "execution_count": null,
   "metadata": {},
   "outputs": [],
   "source": []
  },
  {
   "cell_type": "code",
   "execution_count": 166,
   "metadata": {},
   "outputs": [
    {
     "data": {
      "text/html": [
       "<div>\n",
       "<style scoped>\n",
       "    .dataframe tbody tr th:only-of-type {\n",
       "        vertical-align: middle;\n",
       "    }\n",
       "\n",
       "    .dataframe tbody tr th {\n",
       "        vertical-align: top;\n",
       "    }\n",
       "\n",
       "    .dataframe thead th {\n",
       "        text-align: right;\n",
       "    }\n",
       "</style>\n",
       "<table border=\"1\" class=\"dataframe\">\n",
       "  <thead>\n",
       "    <tr style=\"text-align: right;\">\n",
       "      <th></th>\n",
       "      <th>users</th>\n",
       "      <th>online</th>\n",
       "      <th>offline</th>\n",
       "      <th>eng_emea</th>\n",
       "      <th>non_eng_emea</th>\n",
       "      <th>row</th>\n",
       "      <th>licenses</th>\n",
       "      <th>revenue</th>\n",
       "    </tr>\n",
       "    <tr>\n",
       "      <th>year</th>\n",
       "      <th></th>\n",
       "      <th></th>\n",
       "      <th></th>\n",
       "      <th></th>\n",
       "      <th></th>\n",
       "      <th></th>\n",
       "      <th></th>\n",
       "      <th></th>\n",
       "    </tr>\n",
       "  </thead>\n",
       "  <tbody>\n",
       "    <tr>\n",
       "      <th>2010</th>\n",
       "      <td>2801</td>\n",
       "      <td>23</td>\n",
       "      <td>2778</td>\n",
       "      <td>368</td>\n",
       "      <td>4</td>\n",
       "      <td>2429</td>\n",
       "      <td>104683</td>\n",
       "      <td>25319411.0</td>\n",
       "    </tr>\n",
       "    <tr>\n",
       "      <th>2011</th>\n",
       "      <td>1129</td>\n",
       "      <td>126</td>\n",
       "      <td>1003</td>\n",
       "      <td>291</td>\n",
       "      <td>2</td>\n",
       "      <td>836</td>\n",
       "      <td>17941</td>\n",
       "      <td>5806994.0</td>\n",
       "    </tr>\n",
       "    <tr>\n",
       "      <th>2012</th>\n",
       "      <td>3093</td>\n",
       "      <td>936</td>\n",
       "      <td>2157</td>\n",
       "      <td>776</td>\n",
       "      <td>20</td>\n",
       "      <td>2288</td>\n",
       "      <td>34915</td>\n",
       "      <td>10611564.0</td>\n",
       "    </tr>\n",
       "    <tr>\n",
       "      <th>2013</th>\n",
       "      <td>11206</td>\n",
       "      <td>9241</td>\n",
       "      <td>1965</td>\n",
       "      <td>1204</td>\n",
       "      <td>121</td>\n",
       "      <td>9797</td>\n",
       "      <td>38434</td>\n",
       "      <td>12505346.0</td>\n",
       "    </tr>\n",
       "    <tr>\n",
       "      <th>2014</th>\n",
       "      <td>8802</td>\n",
       "      <td>6535</td>\n",
       "      <td>2267</td>\n",
       "      <td>1144</td>\n",
       "      <td>118</td>\n",
       "      <td>7486</td>\n",
       "      <td>36827</td>\n",
       "      <td>10745945.0</td>\n",
       "    </tr>\n",
       "    <tr>\n",
       "      <th>2015</th>\n",
       "      <td>7150</td>\n",
       "      <td>5042</td>\n",
       "      <td>2108</td>\n",
       "      <td>1408</td>\n",
       "      <td>112</td>\n",
       "      <td>5601</td>\n",
       "      <td>27843</td>\n",
       "      <td>8846337.0</td>\n",
       "    </tr>\n",
       "    <tr>\n",
       "      <th>2016</th>\n",
       "      <td>9230</td>\n",
       "      <td>6880</td>\n",
       "      <td>2350</td>\n",
       "      <td>1699</td>\n",
       "      <td>190</td>\n",
       "      <td>7272</td>\n",
       "      <td>33291</td>\n",
       "      <td>9738652.0</td>\n",
       "    </tr>\n",
       "    <tr>\n",
       "      <th>2017</th>\n",
       "      <td>14185</td>\n",
       "      <td>12091</td>\n",
       "      <td>2094</td>\n",
       "      <td>2763</td>\n",
       "      <td>305</td>\n",
       "      <td>8487</td>\n",
       "      <td>29999</td>\n",
       "      <td>9008577.0</td>\n",
       "    </tr>\n",
       "    <tr>\n",
       "      <th>2018</th>\n",
       "      <td>1</td>\n",
       "      <td>0</td>\n",
       "      <td>1</td>\n",
       "      <td>0</td>\n",
       "      <td>0</td>\n",
       "      <td>1</td>\n",
       "      <td>1</td>\n",
       "      <td>348.0</td>\n",
       "    </tr>\n",
       "  </tbody>\n",
       "</table>\n",
       "</div>"
      ],
      "text/plain": [
       "      users  online  offline  eng_emea  non_eng_emea   row  licenses  \\\n",
       "year                                                                   \n",
       "2010   2801      23     2778       368             4  2429    104683   \n",
       "2011   1129     126     1003       291             2   836     17941   \n",
       "2012   3093     936     2157       776            20  2288     34915   \n",
       "2013  11206    9241     1965      1204           121  9797     38434   \n",
       "2014   8802    6535     2267      1144           118  7486     36827   \n",
       "2015   7150    5042     2108      1408           112  5601     27843   \n",
       "2016   9230    6880     2350      1699           190  7272     33291   \n",
       "2017  14185   12091     2094      2763           305  8487     29999   \n",
       "2018      1       0        1         0             0     1         1   \n",
       "\n",
       "         revenue  \n",
       "year              \n",
       "2010  25319411.0  \n",
       "2011   5806994.0  \n",
       "2012  10611564.0  \n",
       "2013  12505346.0  \n",
       "2014  10745945.0  \n",
       "2015   8846337.0  \n",
       "2016   9738652.0  \n",
       "2017   9008577.0  \n",
       "2018       348.0  "
      ]
     },
     "execution_count": 166,
     "metadata": {},
     "output_type": "execute_result"
    }
   ],
   "source": [
    "count_df"
   ]
  },
  {
   "cell_type": "code",
   "execution_count": null,
   "metadata": {},
   "outputs": [],
   "source": []
  },
  {
   "cell_type": "code",
   "execution_count": 168,
   "metadata": {},
   "outputs": [],
   "source": [
    "count_df['revenue_per_license'] = count_df.apply(lambda row: row['revenue']/ row['licenses'], axis=1)"
   ]
  },
  {
   "cell_type": "code",
   "execution_count": null,
   "metadata": {},
   "outputs": [],
   "source": []
  },
  {
   "cell_type": "code",
   "execution_count": 169,
   "metadata": {},
   "outputs": [],
   "source": [
    "count_df['revenue_per_customer'] = count_df.apply(lambda row: row['revenue']/ row['users'], axis=1)"
   ]
  },
  {
   "cell_type": "code",
   "execution_count": 172,
   "metadata": {},
   "outputs": [],
   "source": [
    "count_df['licenses_per_customer'] = count_df.apply(lambda row: row['licenses']/ row['users'], axis=1)"
   ]
  },
  {
   "cell_type": "code",
   "execution_count": 176,
   "metadata": {},
   "outputs": [
    {
     "data": {
      "image/png": "[encoded data removed]",
      "text/plain": [
       "<Figure size 720x576 with 1 Axes>"
      ]
     },
     "metadata": {
      "needs_background": "light"
     },
     "output_type": "display_data"
    }
   ],
   "source": [
    "ax = count_df[['licenses_per_customer']].plot.bar(\n",
    "    figsize=(10,8),\n",
    "    title='Avg Num of Licenses Per Customer Per Year',\n",
    "    rot=0\n",
    ")\n",
    "\n",
    "ax.set_ylabel(\"Number of Licenses\")\n",
    "ax.set_xlabel(\"Year\", ro)\n",
    "\n",
    "for p, percent in zip(ax.patches, list(count_df.licenses_per_customer)):\n",
    "    ax.annotate(\"{:.2f}\".format(percent), (p.get_x() * 1.005, p.get_height() * 1.008))"
   ]
  },
  {
   "cell_type": "code",
   "execution_count": 202,
   "metadata": {},
   "outputs": [
    {
     "data": {
      "image/png": "[encoded data removed]",
      "text/plain": [
       "<Figure size 720x576 with 2 Axes>"
      ]
     },
     "metadata": {
      "needs_background": "light"
     },
     "output_type": "display_data"
    }
   ],
   "source": [
    "fig = plt.figure(figsize=(10,8)) # Create matplotlib figure\n",
    "\n",
    "ax = fig.add_subplot(111) # Create matplotlib axes\n",
    "ax2 = ax.twinx() # Create another axes that shares the same x-axis as ax.\n",
    "\n",
    "width = 0.3\n",
    "\n",
    "df1 = count_df[['licenses']]\n",
    "df1.columns = ['Licenses']\n",
    "\n",
    "df2 = count_df[['users']]\n",
    "df2.columns = ['Customers']\n",
    "\n",
    "df1.plot.bar(ax=ax, position=0, label='Licenses', width=width)\n",
    "df2.plot.bar(color='green',ax=ax2, position=1, label='Customers', width=width)\n",
    "\n",
    "ax.set_ylabel('Number of New Licenses')\n",
    "ax2.set_ylabel('Number of New Customers')\n",
    "ax.set_xticklabels(list(count_df.index), rotation=0)\n",
    "ax.set_xlabel(\"Year\")\n",
    "ax.set_title('New Customers vs New Licenses per Year')\n",
    "ax.legend( loc=2)\n",
    "ax2.legend(loc=1)\n",
    "\n",
    "plt.show()\n"
   ]
  },
  {
   "cell_type": "code",
   "execution_count": null,
   "metadata": {},
   "outputs": [],
   "source": []
  },
  {
   "cell_type": "code",
   "execution_count": 170,
   "metadata": {},
   "outputs": [
    {
     "data": {
      "image/png": "[encoded data removed]",
      "text/plain": [
       "<Figure size 720x576 with 1 Axes>"
      ]
     },
     "metadata": {
      "needs_background": "light"
     },
     "output_type": "display_data"
    }
   ],
   "source": [
    "ax = count_df[['revenue_per_license']].plot.bar(\n",
    "    figsize=(10,8),\n",
    "    title='Revenue Gained Per License Per Year',\n",
    "    rot=0\n",
    ")\n",
    "\n",
    "ax.set_ylabel(\"Revenue ($)\")\n",
    "ax.set_xlabel(\"Year\")\n",
    "\n",
    "for p, percent in zip(ax.patches, list(count_df.revenue_per_license)):\n",
    "    ax.annotate(\"${:.2f}\".format(percent), (p.get_x() * 1.005, p.get_height() * 1.008))"
   ]
  },
  {
   "cell_type": "code",
   "execution_count": 171,
   "metadata": {},
   "outputs": [
    {
     "data": {
      "image/png": "[encoded data removed]",
      "text/plain": [
       "<Figure size 720x576 with 1 Axes>"
      ]
     },
     "metadata": {
      "needs_background": "light"
     },
     "output_type": "display_data"
    }
   ],
   "source": [
    "ax = count_df[['revenue_per_customer']].plot.bar(\n",
    "    figsize=(10,8),\n",
    "    title='Revenue Gained Per Customer Per Year',\n",
    "    rot=0\n",
    ")\n",
    "\n",
    "ax.set_ylabel(\"Revenue per Customer ($)\")\n",
    "ax.set_xlabel(\"Year\")\n",
    "\n",
    "for p, percent in zip(ax.patches, list(count_df.revenue_per_customer)):\n",
    "    ax.annotate(\"${:.2f}\".format(percent), (p.get_x() * 1.005, p.get_height() * 1.008))"
   ]
  },
  {
   "cell_type": "code",
   "execution_count": null,
   "metadata": {},
   "outputs": [],
   "source": []
  },
  {
   "cell_type": "code",
   "execution_count": 164,
   "metadata": {},
   "outputs": [
    {
     "data": {
      "text/html": [
       "<div>\n",
       "<style scoped>\n",
       "    .dataframe tbody tr th:only-of-type {\n",
       "        vertical-align: middle;\n",
       "    }\n",
       "\n",
       "    .dataframe tbody tr th {\n",
       "        vertical-align: top;\n",
       "    }\n",
       "\n",
       "    .dataframe thead th {\n",
       "        text-align: right;\n",
       "    }\n",
       "</style>\n",
       "<table border=\"1\" class=\"dataframe\">\n",
       "  <thead>\n",
       "    <tr style=\"text-align: right;\">\n",
       "      <th></th>\n",
       "      <th>users</th>\n",
       "      <th>online</th>\n",
       "      <th>offline</th>\n",
       "      <th>eng_emea</th>\n",
       "      <th>non_eng_emea</th>\n",
       "      <th>row</th>\n",
       "      <th>licenses</th>\n",
       "      <th>revenue</th>\n",
       "      <th>revenue_per_license</th>\n",
       "      <th>revenue_per_customer</th>\n",
       "    </tr>\n",
       "    <tr>\n",
       "      <th>year</th>\n",
       "      <th></th>\n",
       "      <th></th>\n",
       "      <th></th>\n",
       "      <th></th>\n",
       "      <th></th>\n",
       "      <th></th>\n",
       "      <th></th>\n",
       "      <th></th>\n",
       "      <th></th>\n",
       "      <th></th>\n",
       "    </tr>\n",
       "  </thead>\n",
       "  <tbody>\n",
       "    <tr>\n",
       "      <th>2010</th>\n",
       "      <td>2801</td>\n",
       "      <td>23</td>\n",
       "      <td>2778</td>\n",
       "      <td>368</td>\n",
       "      <td>4</td>\n",
       "      <td>2429</td>\n",
       "      <td>104683</td>\n",
       "      <td>1.353663e+06</td>\n",
       "      <td>12.931072</td>\n",
       "      <td>483.278614</td>\n",
       "    </tr>\n",
       "    <tr>\n",
       "      <th>2011</th>\n",
       "      <td>1129</td>\n",
       "      <td>126</td>\n",
       "      <td>1003</td>\n",
       "      <td>291</td>\n",
       "      <td>2</td>\n",
       "      <td>836</td>\n",
       "      <td>17941</td>\n",
       "      <td>4.942428e+05</td>\n",
       "      <td>27.548233</td>\n",
       "      <td>437.770454</td>\n",
       "    </tr>\n",
       "    <tr>\n",
       "      <th>2012</th>\n",
       "      <td>3093</td>\n",
       "      <td>936</td>\n",
       "      <td>2157</td>\n",
       "      <td>776</td>\n",
       "      <td>20</td>\n",
       "      <td>2288</td>\n",
       "      <td>34915</td>\n",
       "      <td>1.314365e+06</td>\n",
       "      <td>37.644715</td>\n",
       "      <td>424.948338</td>\n",
       "    </tr>\n",
       "    <tr>\n",
       "      <th>2013</th>\n",
       "      <td>11206</td>\n",
       "      <td>9241</td>\n",
       "      <td>1965</td>\n",
       "      <td>1204</td>\n",
       "      <td>121</td>\n",
       "      <td>9797</td>\n",
       "      <td>38434</td>\n",
       "      <td>4.365556e+06</td>\n",
       "      <td>113.585776</td>\n",
       "      <td>389.573060</td>\n",
       "    </tr>\n",
       "    <tr>\n",
       "      <th>2014</th>\n",
       "      <td>8802</td>\n",
       "      <td>6535</td>\n",
       "      <td>2267</td>\n",
       "      <td>1144</td>\n",
       "      <td>118</td>\n",
       "      <td>7486</td>\n",
       "      <td>36827</td>\n",
       "      <td>3.397249e+06</td>\n",
       "      <td>92.248867</td>\n",
       "      <td>385.963306</td>\n",
       "    </tr>\n",
       "    <tr>\n",
       "      <th>2015</th>\n",
       "      <td>7150</td>\n",
       "      <td>5042</td>\n",
       "      <td>2108</td>\n",
       "      <td>1408</td>\n",
       "      <td>112</td>\n",
       "      <td>5601</td>\n",
       "      <td>27843</td>\n",
       "      <td>2.904009e+06</td>\n",
       "      <td>104.299425</td>\n",
       "      <td>406.155089</td>\n",
       "    </tr>\n",
       "    <tr>\n",
       "      <th>2016</th>\n",
       "      <td>9230</td>\n",
       "      <td>6880</td>\n",
       "      <td>2350</td>\n",
       "      <td>1699</td>\n",
       "      <td>190</td>\n",
       "      <td>7272</td>\n",
       "      <td>33291</td>\n",
       "      <td>3.343738e+06</td>\n",
       "      <td>100.439688</td>\n",
       "      <td>362.268434</td>\n",
       "    </tr>\n",
       "    <tr>\n",
       "      <th>2017</th>\n",
       "      <td>14185</td>\n",
       "      <td>12091</td>\n",
       "      <td>2094</td>\n",
       "      <td>2763</td>\n",
       "      <td>305</td>\n",
       "      <td>8487</td>\n",
       "      <td>29999</td>\n",
       "      <td>4.610300e+06</td>\n",
       "      <td>153.681785</td>\n",
       "      <td>325.012328</td>\n",
       "    </tr>\n",
       "    <tr>\n",
       "      <th>2018</th>\n",
       "      <td>1</td>\n",
       "      <td>0</td>\n",
       "      <td>1</td>\n",
       "      <td>0</td>\n",
       "      <td>0</td>\n",
       "      <td>1</td>\n",
       "      <td>1</td>\n",
       "      <td>3.480000e+02</td>\n",
       "      <td>348.000000</td>\n",
       "      <td>348.000000</td>\n",
       "    </tr>\n",
       "  </tbody>\n",
       "</table>\n",
       "</div>"
      ],
      "text/plain": [
       "      users  online  offline  eng_emea  non_eng_emea   row  licenses  \\\n",
       "year                                                                   \n",
       "2010   2801      23     2778       368             4  2429    104683   \n",
       "2011   1129     126     1003       291             2   836     17941   \n",
       "2012   3093     936     2157       776            20  2288     34915   \n",
       "2013  11206    9241     1965      1204           121  9797     38434   \n",
       "2014   8802    6535     2267      1144           118  7486     36827   \n",
       "2015   7150    5042     2108      1408           112  5601     27843   \n",
       "2016   9230    6880     2350      1699           190  7272     33291   \n",
       "2017  14185   12091     2094      2763           305  8487     29999   \n",
       "2018      1       0        1         0             0     1         1   \n",
       "\n",
       "           revenue  revenue_per_license  revenue_per_customer  \n",
       "year                                                           \n",
       "2010  1.353663e+06            12.931072            483.278614  \n",
       "2011  4.942428e+05            27.548233            437.770454  \n",
       "2012  1.314365e+06            37.644715            424.948338  \n",
       "2013  4.365556e+06           113.585776            389.573060  \n",
       "2014  3.397249e+06            92.248867            385.963306  \n",
       "2015  2.904009e+06           104.299425            406.155089  \n",
       "2016  3.343738e+06           100.439688            362.268434  \n",
       "2017  4.610300e+06           153.681785            325.012328  \n",
       "2018  3.480000e+02           348.000000            348.000000  "
      ]
     },
     "execution_count": 164,
     "metadata": {},
     "output_type": "execute_result"
    }
   ],
   "source": [
    "count_df"
   ]
  },
  {
   "cell_type": "code",
   "execution_count": null,
   "metadata": {},
   "outputs": [],
   "source": []
  },
  {
   "cell_type": "code",
   "execution_count": 159,
   "metadata": {},
   "outputs": [
    {
     "data": {
      "image/png": "[encoded data removed]",
      "text/plain": [
       "<Figure size 720x576 with 1 Axes>"
      ]
     },
     "metadata": {
      "needs_background": "light"
     },
     "output_type": "display_data"
    }
   ],
   "source": [
    "ax = count_df[['users']].plot.bar(\n",
    "    figsize=(10,8),\n",
    "    title='Number of Customers Per Year',\n",
    "    rot=0\n",
    ")\n",
    "\n",
    "ax.set_ylabel(\"Customer Count\")\n",
    "ax.set_xlabel(\"Year\")\n",
    "\n",
    "for p, percent in zip(ax.patches, list(count_df.users)):\n",
    "    ax.annotate(\"{}\".format(percent), (p.get_x() * 1.005, p.get_height() * 1.008))"
   ]
  },
  {
   "cell_type": "code",
   "execution_count": 160,
   "metadata": {},
   "outputs": [
    {
     "data": {
      "image/png": "[encoded data removed]",
      "text/plain": [
       "<Figure size 720x576 with 1 Axes>"
      ]
     },
     "metadata": {
      "needs_background": "light"
     },
     "output_type": "display_data"
    }
   ],
   "source": [
    "ax = count_df[['revenue']].plot.bar(\n",
    "    figsize=(10,8),\n",
    "    title='Number of Customers Per Year',\n",
    "    rot=0\n",
    ")\n",
    "\n",
    "ax.set_ylabel(\"Customer Count\")\n",
    "ax.set_xlabel(\"Year\")\n",
    "\n",
    "for p, percent in zip(ax.patches, list(count_df.revenue)):\n",
    "    ax.annotate(\"{}\".format(percent), (p.get_x() * 1.005, p.get_height() * 1.008))"
   ]
  },
  {
   "cell_type": "code",
   "execution_count": 45,
   "metadata": {},
   "outputs": [
    {
     "data": {
      "image/png": "[encoded data removed]",
      "text/plain": [
       "<Figure size 720x576 with 1 Axes>"
      ]
     },
     "metadata": {
      "needs_background": "light"
     },
     "output_type": "display_data"
    }
   ],
   "source": [
    "ax = count_df[['online', 'offline']].plot.bar(\n",
    "    stacked=True, \n",
    "    figsize=(10,8),\n",
    "    title='New Customer Subscriptions per Year'\n",
    ")\n",
    "\n",
    "# for p, yr in zip(ax.patches, list(count_df.index)):\n",
    "#     row = count_df.loc[yr]\n",
    "#     ct = row['online'] + row['offline']\n",
    "#     ax.annotate(\"{}\".format(ct), (p.get_x() * 1.005, p.get_height() * 1.005))"
   ]
  },
  {
   "cell_type": "code",
   "execution_count": 88,
   "metadata": {},
   "outputs": [
    {
     "data": {
      "image/png": "[encoded data removed]",
      "text/plain": [
       "<Figure size 720x576 with 1 Axes>"
      ]
     },
     "metadata": {
      "needs_background": "light"
     },
     "output_type": "display_data"
    }
   ],
   "source": [
    "ax = count_df[['eng_emea', 'non_eng_emea', 'row']].plot.bar(\n",
    "    stacked=True, \n",
    "    figsize=(10,8),\n",
    "    title='New Customers per Year'\n",
    ")\n",
    "\n",
    "\n",
    "# HACK\n",
    "\n",
    "rect_heights = [0] * 9\n",
    "\n",
    "for idx, p in enumerate(ax.patches):\n",
    "    i = idx % 9\n",
    "    \n",
    "    rect_heights[i] += p.get_height()\n",
    "\n",
    "for p, yr, h in zip(ax.patches[-9:], list(count_df.index), rect_heights):\n",
    "    row = count_df.loc[yr]\n",
    "    ct = row['eng_emea'] + row['non_eng_emea'] + row['row']\n",
    "    ax.annotate(\"{}\".format(ct), (p.get_x() * 1.005, h * 1.005))"
   ]
  },
  {
   "cell_type": "markdown",
   "metadata": {},
   "source": [
    "# Visualise Usage"
   ]
  },
  {
   "cell_type": "markdown",
   "metadata": {},
   "source": [
    "## Revenue gained from 2018 Renewels per month"
   ]
  },
  {
   "cell_type": "code",
   "execution_count": 20,
   "metadata": {},
   "outputs": [],
   "source": [
    "mths, renew_usd, renew_lic, churn_usd, churn_lic = [],[],[],[],[]\n",
    "\n",
    "for mth in list(set(df.dropna(subset=['first_purchase_month']).first_purchase_month)):\n",
    "\n",
    "    mth_df = df.loc[df.first_purchase_month == mth]\n",
    "    renew_df = mth_df.loc[mth_df.Renew_Status == 'RENEW']\n",
    "    churn_df = mth_df.loc[mth_df.Renew_Status == 'CHURN']\n",
    "    \n",
    "    mths.append(int(mth))\n",
    "    renew_usd.append(sum(renew_df.renewal_amount_due_usd))\n",
    "    renew_lic.append(sum(renew_df.licenses))\n",
    "    churn_usd.append(sum(churn_df.renewal_amount_due_usd))\n",
    "    churn_lic.append(sum(churn_df.licenses))\n",
    "    \n",
    "count_df = pd.DataFrame({\n",
    "    'month': mths,\n",
    "    'renewal_amount': renew_usd,\n",
    "    'churned_amount': churn_usd,\n",
    "    'renewed_licenses': renew_lic,\n",
    "    'churned_licenses': churn_lic,\n",
    "})\n",
    "\n",
    "count_df = count_df.sort_values(by='month')\n",
    "count_df = count_df.set_index('month')"
   ]
  },
  {
   "cell_type": "code",
   "execution_count": 21,
   "metadata": {},
   "outputs": [
    {
     "data": {
      "text/html": [
       "<div>\n",
       "<style scoped>\n",
       "    .dataframe tbody tr th:only-of-type {\n",
       "        vertical-align: middle;\n",
       "    }\n",
       "\n",
       "    .dataframe tbody tr th {\n",
       "        vertical-align: top;\n",
       "    }\n",
       "\n",
       "    .dataframe thead th {\n",
       "        text-align: right;\n",
       "    }\n",
       "</style>\n",
       "<table border=\"1\" class=\"dataframe\">\n",
       "  <thead>\n",
       "    <tr style=\"text-align: right;\">\n",
       "      <th></th>\n",
       "      <th>renewal_amount</th>\n",
       "      <th>churned_amount</th>\n",
       "      <th>renewed_licenses</th>\n",
       "      <th>churned_licenses</th>\n",
       "    </tr>\n",
       "    <tr>\n",
       "      <th>month</th>\n",
       "      <th></th>\n",
       "      <th></th>\n",
       "      <th></th>\n",
       "      <th></th>\n",
       "    </tr>\n",
       "  </thead>\n",
       "  <tbody>\n",
       "    <tr>\n",
       "      <th>1</th>\n",
       "      <td>6849392.0</td>\n",
       "      <td>980336.0</td>\n",
       "      <td>22184</td>\n",
       "      <td>3160</td>\n",
       "    </tr>\n",
       "    <tr>\n",
       "      <th>2</th>\n",
       "      <td>10050684.0</td>\n",
       "      <td>1880072.0</td>\n",
       "      <td>30505</td>\n",
       "      <td>5929</td>\n",
       "    </tr>\n",
       "    <tr>\n",
       "      <th>3</th>\n",
       "      <td>19659754.0</td>\n",
       "      <td>3781054.0</td>\n",
       "      <td>89692</td>\n",
       "      <td>12492</td>\n",
       "    </tr>\n",
       "    <tr>\n",
       "      <th>4</th>\n",
       "      <td>10747388.0</td>\n",
       "      <td>2153837.0</td>\n",
       "      <td>33522</td>\n",
       "      <td>6928</td>\n",
       "    </tr>\n",
       "    <tr>\n",
       "      <th>5</th>\n",
       "      <td>10484033.0</td>\n",
       "      <td>2369679.0</td>\n",
       "      <td>32688</td>\n",
       "      <td>8402</td>\n",
       "    </tr>\n",
       "    <tr>\n",
       "      <th>6</th>\n",
       "      <td>13552787.0</td>\n",
       "      <td>2860254.0</td>\n",
       "      <td>43514</td>\n",
       "      <td>11083</td>\n",
       "    </tr>\n",
       "    <tr>\n",
       "      <th>7</th>\n",
       "      <td>1516524.0</td>\n",
       "      <td>240436.0</td>\n",
       "      <td>5620</td>\n",
       "      <td>969</td>\n",
       "    </tr>\n",
       "    <tr>\n",
       "      <th>8</th>\n",
       "      <td>886613.0</td>\n",
       "      <td>164108.0</td>\n",
       "      <td>2590</td>\n",
       "      <td>393</td>\n",
       "    </tr>\n",
       "    <tr>\n",
       "      <th>9</th>\n",
       "      <td>887602.0</td>\n",
       "      <td>166087.0</td>\n",
       "      <td>2814</td>\n",
       "      <td>466</td>\n",
       "    </tr>\n",
       "    <tr>\n",
       "      <th>10</th>\n",
       "      <td>770909.0</td>\n",
       "      <td>131066.0</td>\n",
       "      <td>2184</td>\n",
       "      <td>314</td>\n",
       "    </tr>\n",
       "    <tr>\n",
       "      <th>11</th>\n",
       "      <td>1060811.0</td>\n",
       "      <td>145399.0</td>\n",
       "      <td>3106</td>\n",
       "      <td>397</td>\n",
       "    </tr>\n",
       "    <tr>\n",
       "      <th>12</th>\n",
       "      <td>986692.0</td>\n",
       "      <td>257657.0</td>\n",
       "      <td>4237</td>\n",
       "      <td>745</td>\n",
       "    </tr>\n",
       "  </tbody>\n",
       "</table>\n",
       "</div>"
      ],
      "text/plain": [
       "       renewal_amount  churned_amount  renewed_licenses  churned_licenses\n",
       "month                                                                    \n",
       "1           6849392.0        980336.0             22184              3160\n",
       "2          10050684.0       1880072.0             30505              5929\n",
       "3          19659754.0       3781054.0             89692             12492\n",
       "4          10747388.0       2153837.0             33522              6928\n",
       "5          10484033.0       2369679.0             32688              8402\n",
       "6          13552787.0       2860254.0             43514             11083\n",
       "7           1516524.0        240436.0              5620               969\n",
       "8            886613.0        164108.0              2590               393\n",
       "9            887602.0        166087.0              2814               466\n",
       "10           770909.0        131066.0              2184               314\n",
       "11          1060811.0        145399.0              3106               397\n",
       "12           986692.0        257657.0              4237               745"
      ]
     },
     "execution_count": 21,
     "metadata": {},
     "output_type": "execute_result"
    }
   ],
   "source": [
    "count_df"
   ]
  },
  {
   "cell_type": "markdown",
   "metadata": {},
   "source": [
    "## Revenue lost from 2018 Churners"
   ]
  },
  {
   "cell_type": "code",
   "execution_count": 26,
   "metadata": {},
   "outputs": [
    {
     "data": {
      "text/plain": [
       "<matplotlib.axes._subplots.AxesSubplot at 0x11cf56b70>"
      ]
     },
     "execution_count": 26,
     "metadata": {},
     "output_type": "execute_result"
    },
    {
     "data": {
      "image/png": "[encoded data removed]",
      "text/plain": [
       "<Figure size 720x576 with 1 Axes>"
      ]
     },
     "metadata": {
      "needs_background": "light"
     },
     "output_type": "display_data"
    }
   ],
   "source": [
    "count_df[['renewal_amount', 'churned_amount']].plot.bar(\n",
    "    stacked=True,\n",
    "    figsize=(10,8),\n",
    "    title='Renewed vs Churned Customer Subscription Fees per Month'\n",
    ")"
   ]
  },
  {
   "cell_type": "code",
   "execution_count": 28,
   "metadata": {},
   "outputs": [
    {
     "data": {
      "text/plain": [
       "<matplotlib.axes._subplots.AxesSubplot at 0x11cf4e860>"
      ]
     },
     "execution_count": 28,
     "metadata": {},
     "output_type": "execute_result"
    },
    {
     "data": {
      "image/png": "[encoded data removed]",
      "text/plain": [
       "<Figure size 720x576 with 1 Axes>"
      ]
     },
     "metadata": {
      "needs_background": "light"
     },
     "output_type": "display_data"
    }
   ],
   "source": [
    "count_df[['renewed_licenses', 'churned_licenses']].plot.bar(\n",
    "    stacked=True,\n",
    "    figsize=(10,8),\n",
    "    title='Renewed vs Churned Customer Licenses per Month'\n",
    ")"
   ]
  },
  {
   "cell_type": "markdown",
   "metadata": {},
   "source": [
    "## Churned Revenue"
   ]
  },
  {
   "cell_type": "code",
   "execution_count": 59,
   "metadata": {},
   "outputs": [
    {
     "name": "stdout",
     "output_type": "stream",
     "text": [
      "Total RENEW: 46718 [81.109%]\n",
      "Total CHURN: 10881 [18.891%]\n",
      "\n",
      "\n",
      "Total RENEW Revenue: 77465309.0 [83.660%]\n",
      "Total CHURN Revenue: 15129985.0 [16.340%]\n",
      "\n",
      "\n",
      "Total RENEW Licenses: 272676 [84.171%]\n",
      "Total CHURN Licenses: 51278 [15.829%]\n"
     ]
    }
   ],
   "source": [
    "renew = df.loc[df.Renew_Status == 'RENEW']\n",
    "churn = df.loc[df.Renew_Status == 'CHURN']\n",
    "total = len(df)\n",
    "\n",
    "churn_revenue = sum(churn.renewal_amount_due_usd)\n",
    "renew_revenue = sum(renew.renewal_amount_due_usd)\n",
    "total_revenue = sum(df.renewal_amount_due_usd)\n",
    "\n",
    "churn_lic = sum(churn.licenses)\n",
    "renew_lic = sum(renew.licenses)\n",
    "total_lic = sum(df.licenses)\n",
    "\n",
    "\n",
    "print(\"Total RENEW: {} [{:.3f}%]\".format(len(renew), (len(renew) / total * 100.0)))\n",
    "print(\"Total CHURN: {} [{:.3f}%]\".format(len(churn), (len(churn) / total * 100.0)))\n",
    "\n",
    "print(\"\\n\")\n",
    "print(\"Total RENEW Revenue: {} [{:.3f}%]\".format(renew_revenue, (renew_revenue / total_revenue * 100.0)))\n",
    "print(\"Total CHURN Revenue: {} [{:.3f}%]\".format(churn_revenue, (churn_revenue / total_revenue * 100.0)))\n",
    "\n",
    "print(\"\\n\")\n",
    "print(\"Total RENEW Licenses: {} [{:.3f}%]\".format(renew_lic, (renew_lic / total_lic * 100.0)))\n",
    "print(\"Total CHURN Licenses: {} [{:.3f}%]\".format(churn_lic, (churn_lic / total_lic * 100.0)))"
   ]
  },
  {
   "cell_type": "code",
   "execution_count": 64,
   "metadata": {},
   "outputs": [
    {
     "data": {
      "image/png": "[encoded data removed]",
      "text/plain": [
       "<Figure size 432x288 with 1 Axes>"
      ]
     },
     "metadata": {},
     "output_type": "display_data"
    }
   ],
   "source": [
    "# Pie chart, where the slices will be ordered and plotted counter-clockwise:\n",
    "labels = ['Renewed', 'Churned']\n",
    "sizes = [81.109, 18.891]\n",
    "explode = (0, 0.1)  # only \"explode\" the 2nd slice (i.e. 'Hogs')\n",
    "\n",
    "fig1, ax1 = plt.subplots()\n",
    "ax1.pie(sizes, explode=explode, labels=labels, autopct='%1.3f%%', shadow=True, startangle=90)\n",
    "ax1.axis('equal')  # Equal aspect ratio ensures that pie is drawn as a circle.\n",
    "plt.title('2018 Customers')\n",
    "plt.show()\n",
    "\n"
   ]
  },
  {
   "cell_type": "markdown",
   "metadata": {},
   "source": [
    "## What do our Churners look like?\n",
    "\n",
    "- markets\n",
    "- channels\n",
    "- num_licenses\n",
    "- active users"
   ]
  },
  {
   "cell_type": "code",
   "execution_count": 31,
   "metadata": {},
   "outputs": [
    {
     "data": {
      "text/plain": [
       "userid                                    605751\n",
       "first_purchase_date                   2015-06-25\n",
       "renewal_date                          2018-06-26\n",
       "renewal_amount_due_usd                      4800\n",
       "licenses                                      20\n",
       "assigned_licenses                             52\n",
       "market                                       ROW\n",
       "billing_country                               US\n",
       "billing_state                                 IN\n",
       "channel                                  offline\n",
       "total_meetings_30days                        620\n",
       "total_meetings_30to60days                    364\n",
       "meetingdays                                   31\n",
       "total_participants                           386\n",
       "webcam_duration                              368\n",
       "audio_duration                           52220.5\n",
       "Renew_Status                               RENEW\n",
       "first_purchase_year                         2015\n",
       "first_purchase_month                           6\n",
       "renewal_month                                  6\n",
       "renewal_year                                2018\n",
       "years_active                                   3\n",
       "renewal_amount_due_usd_per_license           240\n",
       "total_usage_duration                     52588.5\n",
       "Name: 0, dtype: object"
      ]
     },
     "execution_count": 31,
     "metadata": {},
     "output_type": "execute_result"
    }
   ],
   "source": [
    "df.iloc[0]"
   ]
  },
  {
   "cell_type": "markdown",
   "metadata": {},
   "source": [
    "### Visualise usage "
   ]
  },
  {
   "cell_type": "code",
   "execution_count": 5,
   "metadata": {},
   "outputs": [
    {
     "data": {
      "text/html": [
       "<div>\n",
       "<style scoped>\n",
       "    .dataframe tbody tr th:only-of-type {\n",
       "        vertical-align: middle;\n",
       "    }\n",
       "\n",
       "    .dataframe tbody tr th {\n",
       "        vertical-align: top;\n",
       "    }\n",
       "\n",
       "    .dataframe thead th {\n",
       "        text-align: right;\n",
       "    }\n",
       "</style>\n",
       "<table border=\"1\" class=\"dataframe\">\n",
       "  <thead>\n",
       "    <tr style=\"text-align: right;\">\n",
       "      <th></th>\n",
       "      <th>userid</th>\n",
       "      <th>renewal_amount_due_usd</th>\n",
       "      <th>licenses</th>\n",
       "      <th>assigned_licenses</th>\n",
       "      <th>total_meetings_30days</th>\n",
       "      <th>total_meetings_30to60days</th>\n",
       "      <th>meetingdays</th>\n",
       "      <th>total_participants</th>\n",
       "      <th>webcam_duration</th>\n",
       "      <th>audio_duration</th>\n",
       "      <th>first_purchase_year</th>\n",
       "      <th>first_purchase_month</th>\n",
       "      <th>renewal_month</th>\n",
       "      <th>renewal_year</th>\n",
       "      <th>years_active</th>\n",
       "      <th>renewal_amount_due_usd_per_license</th>\n",
       "      <th>total_usage_duration</th>\n",
       "    </tr>\n",
       "  </thead>\n",
       "  <tbody>\n",
       "    <tr>\n",
       "      <th>count</th>\n",
       "      <td>5.759900e+04</td>\n",
       "      <td>57599.000000</td>\n",
       "      <td>57599.000000</td>\n",
       "      <td>57599.000000</td>\n",
       "      <td>57599.000000</td>\n",
       "      <td>57599.000000</td>\n",
       "      <td>57599.000000</td>\n",
       "      <td>57599.000000</td>\n",
       "      <td>57599.000000</td>\n",
       "      <td>5.759900e+04</td>\n",
       "      <td>57597.000000</td>\n",
       "      <td>57597.000000</td>\n",
       "      <td>57599.000000</td>\n",
       "      <td>57599.0</td>\n",
       "      <td>57597.000000</td>\n",
       "      <td>57599.000000</td>\n",
       "      <td>5.759900e+04</td>\n",
       "    </tr>\n",
       "    <tr>\n",
       "      <th>mean</th>\n",
       "      <td>3.217052e+18</td>\n",
       "      <td>1607.585097</td>\n",
       "      <td>5.624299</td>\n",
       "      <td>5.590062</td>\n",
       "      <td>35.761749</td>\n",
       "      <td>20.057935</td>\n",
       "      <td>6.478515</td>\n",
       "      <td>28.866699</td>\n",
       "      <td>153.263749</td>\n",
       "      <td>2.433775e+03</td>\n",
       "      <td>2014.628262</td>\n",
       "      <td>4.465094</td>\n",
       "      <td>4.207972</td>\n",
       "      <td>2018.0</td>\n",
       "      <td>3.371738</td>\n",
       "      <td>378.212861</td>\n",
       "      <td>2.587039e+03</td>\n",
       "    </tr>\n",
       "    <tr>\n",
       "      <th>std</th>\n",
       "      <td>3.063508e+18</td>\n",
       "      <td>6602.084268</td>\n",
       "      <td>118.624971</td>\n",
       "      <td>117.242721</td>\n",
       "      <td>556.820304</td>\n",
       "      <td>417.475586</td>\n",
       "      <td>7.524504</td>\n",
       "      <td>378.423050</td>\n",
       "      <td>1643.725805</td>\n",
       "      <td>3.148848e+04</td>\n",
       "      <td>1.987756</td>\n",
       "      <td>2.192594</td>\n",
       "      <td>1.346416</td>\n",
       "      <td>0.0</td>\n",
       "      <td>1.987756</td>\n",
       "      <td>119.252968</td>\n",
       "      <td>3.241541e+04</td>\n",
       "    </tr>\n",
       "    <tr>\n",
       "      <th>min</th>\n",
       "      <td>3.404000e+03</td>\n",
       "      <td>26.000000</td>\n",
       "      <td>1.000000</td>\n",
       "      <td>0.000000</td>\n",
       "      <td>0.000000</td>\n",
       "      <td>0.000000</td>\n",
       "      <td>0.000000</td>\n",
       "      <td>0.000000</td>\n",
       "      <td>0.000000</td>\n",
       "      <td>0.000000e+00</td>\n",
       "      <td>2010.000000</td>\n",
       "      <td>1.000000</td>\n",
       "      <td>2.000000</td>\n",
       "      <td>2018.0</td>\n",
       "      <td>0.000000</td>\n",
       "      <td>10.666667</td>\n",
       "      <td>0.000000e+00</td>\n",
       "    </tr>\n",
       "    <tr>\n",
       "      <th>25%</th>\n",
       "      <td>7.807895e+05</td>\n",
       "      <td>348.000000</td>\n",
       "      <td>1.000000</td>\n",
       "      <td>1.000000</td>\n",
       "      <td>0.000000</td>\n",
       "      <td>0.000000</td>\n",
       "      <td>0.000000</td>\n",
       "      <td>0.000000</td>\n",
       "      <td>0.000000</td>\n",
       "      <td>0.000000e+00</td>\n",
       "      <td>2013.000000</td>\n",
       "      <td>3.000000</td>\n",
       "      <td>3.000000</td>\n",
       "      <td>2018.0</td>\n",
       "      <td>2.000000</td>\n",
       "      <td>298.000000</td>\n",
       "      <td>0.000000e+00</td>\n",
       "    </tr>\n",
       "    <tr>\n",
       "      <th>50%</th>\n",
       "      <td>2.608880e+18</td>\n",
       "      <td>468.000000</td>\n",
       "      <td>1.000000</td>\n",
       "      <td>1.000000</td>\n",
       "      <td>4.000000</td>\n",
       "      <td>0.000000</td>\n",
       "      <td>3.000000</td>\n",
       "      <td>4.000000</td>\n",
       "      <td>0.000000</td>\n",
       "      <td>2.120000e+02</td>\n",
       "      <td>2015.000000</td>\n",
       "      <td>4.000000</td>\n",
       "      <td>4.000000</td>\n",
       "      <td>2018.0</td>\n",
       "      <td>3.000000</td>\n",
       "      <td>351.000000</td>\n",
       "      <td>2.350000e+02</td>\n",
       "    </tr>\n",
       "    <tr>\n",
       "      <th>75%</th>\n",
       "      <td>5.918540e+18</td>\n",
       "      <td>708.000000</td>\n",
       "      <td>2.000000</td>\n",
       "      <td>2.000000</td>\n",
       "      <td>17.000000</td>\n",
       "      <td>2.000000</td>\n",
       "      <td>11.000000</td>\n",
       "      <td>17.000000</td>\n",
       "      <td>0.000000</td>\n",
       "      <td>1.102865e+03</td>\n",
       "      <td>2016.000000</td>\n",
       "      <td>6.000000</td>\n",
       "      <td>5.000000</td>\n",
       "      <td>2018.0</td>\n",
       "      <td>5.000000</td>\n",
       "      <td>468.000000</td>\n",
       "      <td>1.211965e+03</td>\n",
       "    </tr>\n",
       "    <tr>\n",
       "      <th>max</th>\n",
       "      <td>9.222970e+18</td>\n",
       "      <td>849264.000000</td>\n",
       "      <td>27220.000000</td>\n",
       "      <td>25154.000000</td>\n",
       "      <td>119898.000000</td>\n",
       "      <td>92294.000000</td>\n",
       "      <td>31.000000</td>\n",
       "      <td>83192.000000</td>\n",
       "      <td>140688.470000</td>\n",
       "      <td>6.495909e+06</td>\n",
       "      <td>2018.000000</td>\n",
       "      <td>12.000000</td>\n",
       "      <td>6.000000</td>\n",
       "      <td>2018.0</td>\n",
       "      <td>8.000000</td>\n",
       "      <td>1813.000000</td>\n",
       "      <td>6.636597e+06</td>\n",
       "    </tr>\n",
       "  </tbody>\n",
       "</table>\n",
       "</div>"
      ],
      "text/plain": [
       "             userid  renewal_amount_due_usd      licenses  assigned_licenses  \\\n",
       "count  5.759900e+04            57599.000000  57599.000000       57599.000000   \n",
       "mean   3.217052e+18             1607.585097      5.624299           5.590062   \n",
       "std    3.063508e+18             6602.084268    118.624971         117.242721   \n",
       "min    3.404000e+03               26.000000      1.000000           0.000000   \n",
       "25%    7.807895e+05              348.000000      1.000000           1.000000   \n",
       "50%    2.608880e+18              468.000000      1.000000           1.000000   \n",
       "75%    5.918540e+18              708.000000      2.000000           2.000000   \n",
       "max    9.222970e+18           849264.000000  27220.000000       25154.000000   \n",
       "\n",
       "       total_meetings_30days  total_meetings_30to60days   meetingdays  \\\n",
       "count           57599.000000               57599.000000  57599.000000   \n",
       "mean               35.761749                  20.057935      6.478515   \n",
       "std               556.820304                 417.475586      7.524504   \n",
       "min                 0.000000                   0.000000      0.000000   \n",
       "25%                 0.000000                   0.000000      0.000000   \n",
       "50%                 4.000000                   0.000000      3.000000   \n",
       "75%                17.000000                   2.000000     11.000000   \n",
       "max            119898.000000               92294.000000     31.000000   \n",
       "\n",
       "       total_participants  webcam_duration  audio_duration  \\\n",
       "count        57599.000000     57599.000000    5.759900e+04   \n",
       "mean            28.866699       153.263749    2.433775e+03   \n",
       "std            378.423050      1643.725805    3.148848e+04   \n",
       "min              0.000000         0.000000    0.000000e+00   \n",
       "25%              0.000000         0.000000    0.000000e+00   \n",
       "50%              4.000000         0.000000    2.120000e+02   \n",
       "75%             17.000000         0.000000    1.102865e+03   \n",
       "max          83192.000000    140688.470000    6.495909e+06   \n",
       "\n",
       "       first_purchase_year  first_purchase_month  renewal_month  renewal_year  \\\n",
       "count         57597.000000          57597.000000   57599.000000       57599.0   \n",
       "mean           2014.628262              4.465094       4.207972        2018.0   \n",
       "std               1.987756              2.192594       1.346416           0.0   \n",
       "min            2010.000000              1.000000       2.000000        2018.0   \n",
       "25%            2013.000000              3.000000       3.000000        2018.0   \n",
       "50%            2015.000000              4.000000       4.000000        2018.0   \n",
       "75%            2016.000000              6.000000       5.000000        2018.0   \n",
       "max            2018.000000             12.000000       6.000000        2018.0   \n",
       "\n",
       "       years_active  renewal_amount_due_usd_per_license  total_usage_duration  \n",
       "count  57597.000000                        57599.000000          5.759900e+04  \n",
       "mean       3.371738                          378.212861          2.587039e+03  \n",
       "std        1.987756                          119.252968          3.241541e+04  \n",
       "min        0.000000                           10.666667          0.000000e+00  \n",
       "25%        2.000000                          298.000000          0.000000e+00  \n",
       "50%        3.000000                          351.000000          2.350000e+02  \n",
       "75%        5.000000                          468.000000          1.211965e+03  \n",
       "max        8.000000                         1813.000000          6.636597e+06  "
      ]
     },
     "execution_count": 5,
     "metadata": {},
     "output_type": "execute_result"
    }
   ],
   "source": [
    "df.describe()"
   ]
  },
  {
   "cell_type": "code",
   "execution_count": 6,
   "metadata": {},
   "outputs": [],
   "source": [
    "usage = list(churn.total_usage_duration)"
   ]
  },
  {
   "cell_type": "code",
   "execution_count": 7,
   "metadata": {},
   "outputs": [
    {
     "data": {
      "text/plain": [
       "(array([84.,  6.,  4.,  0.,  3.,  1.,  0.,  0.,  0.,  2.]),\n",
       " array([   1501.   ,  116483.239,  231465.478,  346447.717,  461429.956,\n",
       "         576412.195,  691394.434,  806376.673,  921358.912, 1036341.151,\n",
       "        1151323.39 ]),\n",
       " <a list of 10 Patch objects>)"
      ]
     },
     "execution_count": 7,
     "metadata": {},
     "output_type": "execute_result"
    },
    {
     "data": {
      "image/png": "[encoded data removed]",
      "text/plain": [
       "<Figure size 432x288 with 1 Axes>"
      ]
     },
     "metadata": {
      "needs_background": "light"
     },
     "output_type": "display_data"
    }
   ],
   "source": [
    "plt.hist(x=usage[:100], bins=10, color='#0504aa')"
   ]
  },
  {
   "cell_type": "markdown",
   "metadata": {},
   "source": [
    "## Customer Revenue per Years Active \n",
    "\n",
    "- figure out how much of 2018's revenue came from our most loyal customers"
   ]
  },
  {
   "cell_type": "code",
   "execution_count": 85,
   "metadata": {},
   "outputs": [],
   "source": [
    "years, cumu, revenue = [],[],[]\n",
    "\n",
    "for yr in list(set(renew.dropna(subset=['first_purchase_year']).first_purchase_year)):\n",
    "    total_years = 2018 - yr\n",
    "    years.append(int(total_years))\n",
    "    yr_df = renew.loc[renew.first_purchase_year == yr]\n",
    "    \n",
    "    greater_df = renew.loc[renew.first_purchase_year <= yr]\n",
    "    \n",
    "    greater_revenue = sum(greater_df.renewal_amount_due_usd)\n",
    "    cumu.append(greater_revenue)\n",
    "\n",
    "    total_revenue = sum(yr_df.renewal_amount_due_usd)\n",
    "    revenue.append(total_revenue)\n",
    "    \n",
    "\n",
    "revenue_per_years_active = pd.DataFrame({\n",
    "    'num_years': years,\n",
    "    'revenue': revenue,\n",
    "    'cumu_revenue': cumu\n",
    "})\n",
    "\n",
    "revenue_per_years_active = revenue_per_years_active.sort_values(by='num_years').reset_index(drop=True)\n",
    "revenue_per_years_active = revenue_per_years_active.set_index('num_years')\n"
   ]
  },
  {
   "cell_type": "code",
   "execution_count": 93,
   "metadata": {},
   "outputs": [
    {
     "data": {
      "text/plain": [
       "[2016.0, 2017.0, 2018.0, 2010.0, 2011.0, 2012.0, 2013.0, 2014.0, 2015.0]"
      ]
     },
     "execution_count": 93,
     "metadata": {},
     "output_type": "execute_result"
    }
   ],
   "source": [
    "list(set(renew.dropna(subset=['first_purchase_year']).first_purchase_year))"
   ]
  },
  {
   "cell_type": "code",
   "execution_count": 162,
   "metadata": {},
   "outputs": [
    {
     "data": {
      "text/plain": [
       "25319411.0"
      ]
     },
     "execution_count": 162,
     "metadata": {},
     "output_type": "execute_result"
    }
   ],
   "source": [
    "sum(df.loc[df.first_purchase_year == 2010].renewal_amount_due_usd)"
   ]
  },
  {
   "cell_type": "code",
   "execution_count": 163,
   "metadata": {},
   "outputs": [
    {
     "data": {
      "text/plain": [
       "22275154.0"
      ]
     },
     "execution_count": 163,
     "metadata": {},
     "output_type": "execute_result"
    }
   ],
   "source": [
    "sum(renew.loc[renew.first_purchase_year == 2010].renewal_amount_due_usd)"
   ]
  },
  {
   "cell_type": "code",
   "execution_count": null,
   "metadata": {},
   "outputs": [],
   "source": []
  },
  {
   "cell_type": "code",
   "execution_count": null,
   "metadata": {},
   "outputs": [],
   "source": []
  },
  {
   "cell_type": "code",
   "execution_count": 86,
   "metadata": {},
   "outputs": [
    {
     "data": {
      "text/html": [
       "<div>\n",
       "<style scoped>\n",
       "    .dataframe tbody tr th:only-of-type {\n",
       "        vertical-align: middle;\n",
       "    }\n",
       "\n",
       "    .dataframe tbody tr th {\n",
       "        vertical-align: top;\n",
       "    }\n",
       "\n",
       "    .dataframe thead th {\n",
       "        text-align: right;\n",
       "    }\n",
       "</style>\n",
       "<table border=\"1\" class=\"dataframe\">\n",
       "  <thead>\n",
       "    <tr style=\"text-align: right;\">\n",
       "      <th></th>\n",
       "      <th>revenue</th>\n",
       "      <th>cumu_revenue</th>\n",
       "    </tr>\n",
       "    <tr>\n",
       "      <th>num_years</th>\n",
       "      <th></th>\n",
       "      <th></th>\n",
       "    </tr>\n",
       "  </thead>\n",
       "  <tbody>\n",
       "    <tr>\n",
       "      <th>0</th>\n",
       "      <td>348.0</td>\n",
       "      <td>77453189.0</td>\n",
       "    </tr>\n",
       "    <tr>\n",
       "      <th>1</th>\n",
       "      <td>7210296.0</td>\n",
       "      <td>77452841.0</td>\n",
       "    </tr>\n",
       "    <tr>\n",
       "      <th>2</th>\n",
       "      <td>7813067.0</td>\n",
       "      <td>70242545.0</td>\n",
       "    </tr>\n",
       "    <tr>\n",
       "      <th>3</th>\n",
       "      <td>6951855.0</td>\n",
       "      <td>62429478.0</td>\n",
       "    </tr>\n",
       "    <tr>\n",
       "      <th>4</th>\n",
       "      <td>8909060.0</td>\n",
       "      <td>55477623.0</td>\n",
       "    </tr>\n",
       "    <tr>\n",
       "      <th>5</th>\n",
       "      <td>10430719.0</td>\n",
       "      <td>46568563.0</td>\n",
       "    </tr>\n",
       "    <tr>\n",
       "      <th>6</th>\n",
       "      <td>8981909.0</td>\n",
       "      <td>36137844.0</td>\n",
       "    </tr>\n",
       "    <tr>\n",
       "      <th>7</th>\n",
       "      <td>4880781.0</td>\n",
       "      <td>27155935.0</td>\n",
       "    </tr>\n",
       "    <tr>\n",
       "      <th>8</th>\n",
       "      <td>22275154.0</td>\n",
       "      <td>22275154.0</td>\n",
       "    </tr>\n",
       "  </tbody>\n",
       "</table>\n",
       "</div>"
      ],
      "text/plain": [
       "              revenue  cumu_revenue\n",
       "num_years                          \n",
       "0               348.0    77453189.0\n",
       "1           7210296.0    77452841.0\n",
       "2           7813067.0    70242545.0\n",
       "3           6951855.0    62429478.0\n",
       "4           8909060.0    55477623.0\n",
       "5          10430719.0    46568563.0\n",
       "6           8981909.0    36137844.0\n",
       "7           4880781.0    27155935.0\n",
       "8          22275154.0    22275154.0"
      ]
     },
     "execution_count": 86,
     "metadata": {},
     "output_type": "execute_result"
    }
   ],
   "source": [
    "revenue_per_years_active"
   ]
  },
  {
   "cell_type": "code",
   "execution_count": 92,
   "metadata": {},
   "outputs": [
    {
     "data": {
      "text/plain": [
       "12120.0"
      ]
     },
     "execution_count": 92,
     "metadata": {},
     "output_type": "execute_result"
    }
   ],
   "source": [
    "total_renew_revenue - sum(revenue_per_years_active.revenue)"
   ]
  },
  {
   "cell_type": "code",
   "execution_count": null,
   "metadata": {},
   "outputs": [],
   "source": []
  },
  {
   "cell_type": "code",
   "execution_count": 100,
   "metadata": {},
   "outputs": [
    {
     "name": "stdout",
     "output_type": "stream",
     "text": [
      "$77453189.0\n"
     ]
    }
   ],
   "source": [
    "total_renew_revenue = sum(renew.dropna(subset=['first_purchase_year']).renewal_amount_due_usd)\n",
    "print(\"${}\".format(total_renew_revenue))"
   ]
  },
  {
   "cell_type": "code",
   "execution_count": 138,
   "metadata": {},
   "outputs": [],
   "source": [
    "cum_sum = []\n",
    "\n",
    "tot = 0\n",
    "for idx, row in revenue_per_years_active.iterrows():\n",
    "    tot += row['revenue']\n",
    "    cum_sum.append(tot) \n",
    "\n",
    "revenue_per_years_active['cumulative_revenue'] = cum_sum"
   ]
  },
  {
   "cell_type": "code",
   "execution_count": 144,
   "metadata": {},
   "outputs": [],
   "source": [
    "revenue_per_years_active['proportion'] = revenue_per_years_active.revenue.apply(lambda x: x / total_renew_revenue * 100)\n",
    "revenue_per_years_active['cumulative_proportion'] = revenue_per_years_active.cumulative_revenue.apply(lambda x: x / total_renew_revenue * 100)\n",
    "\n"
   ]
  },
  {
   "cell_type": "code",
   "execution_count": 145,
   "metadata": {},
   "outputs": [
    {
     "data": {
      "text/html": [
       "<div>\n",
       "<style scoped>\n",
       "    .dataframe tbody tr th:only-of-type {\n",
       "        vertical-align: middle;\n",
       "    }\n",
       "\n",
       "    .dataframe tbody tr th {\n",
       "        vertical-align: top;\n",
       "    }\n",
       "\n",
       "    .dataframe thead th {\n",
       "        text-align: right;\n",
       "    }\n",
       "</style>\n",
       "<table border=\"1\" class=\"dataframe\">\n",
       "  <thead>\n",
       "    <tr style=\"text-align: right;\">\n",
       "      <th></th>\n",
       "      <th>revenue</th>\n",
       "      <th>cumu_revenue</th>\n",
       "      <th>proportion</th>\n",
       "      <th>cumulative_proportion</th>\n",
       "      <th>cumulative_revenue</th>\n",
       "    </tr>\n",
       "    <tr>\n",
       "      <th>num_years</th>\n",
       "      <th></th>\n",
       "      <th></th>\n",
       "      <th></th>\n",
       "      <th></th>\n",
       "      <th></th>\n",
       "    </tr>\n",
       "  </thead>\n",
       "  <tbody>\n",
       "    <tr>\n",
       "      <th>0</th>\n",
       "      <td>348.0</td>\n",
       "      <td>77453189.0</td>\n",
       "      <td>0.000449</td>\n",
       "      <td>0.000449</td>\n",
       "      <td>348.0</td>\n",
       "    </tr>\n",
       "    <tr>\n",
       "      <th>1</th>\n",
       "      <td>7210296.0</td>\n",
       "      <td>77452841.0</td>\n",
       "      <td>9.309231</td>\n",
       "      <td>9.309680</td>\n",
       "      <td>7210644.0</td>\n",
       "    </tr>\n",
       "    <tr>\n",
       "      <th>2</th>\n",
       "      <td>7813067.0</td>\n",
       "      <td>70242545.0</td>\n",
       "      <td>10.087470</td>\n",
       "      <td>19.397150</td>\n",
       "      <td>15023711.0</td>\n",
       "    </tr>\n",
       "    <tr>\n",
       "      <th>3</th>\n",
       "      <td>6951855.0</td>\n",
       "      <td>62429478.0</td>\n",
       "      <td>8.975557</td>\n",
       "      <td>28.372707</td>\n",
       "      <td>21975566.0</td>\n",
       "    </tr>\n",
       "    <tr>\n",
       "      <th>4</th>\n",
       "      <td>8909060.0</td>\n",
       "      <td>55477623.0</td>\n",
       "      <td>11.502509</td>\n",
       "      <td>39.875215</td>\n",
       "      <td>30884626.0</td>\n",
       "    </tr>\n",
       "    <tr>\n",
       "      <th>5</th>\n",
       "      <td>10430719.0</td>\n",
       "      <td>46568563.0</td>\n",
       "      <td>13.467127</td>\n",
       "      <td>53.342342</td>\n",
       "      <td>41315345.0</td>\n",
       "    </tr>\n",
       "    <tr>\n",
       "      <th>6</th>\n",
       "      <td>8981909.0</td>\n",
       "      <td>36137844.0</td>\n",
       "      <td>11.596564</td>\n",
       "      <td>64.938907</td>\n",
       "      <td>50297254.0</td>\n",
       "    </tr>\n",
       "    <tr>\n",
       "      <th>7</th>\n",
       "      <td>4880781.0</td>\n",
       "      <td>27155935.0</td>\n",
       "      <td>6.301588</td>\n",
       "      <td>71.240495</td>\n",
       "      <td>55178035.0</td>\n",
       "    </tr>\n",
       "    <tr>\n",
       "      <th>8</th>\n",
       "      <td>22275154.0</td>\n",
       "      <td>22275154.0</td>\n",
       "      <td>28.759505</td>\n",
       "      <td>100.000000</td>\n",
       "      <td>77453189.0</td>\n",
       "    </tr>\n",
       "  </tbody>\n",
       "</table>\n",
       "</div>"
      ],
      "text/plain": [
       "              revenue  cumu_revenue  proportion  cumulative_proportion  \\\n",
       "num_years                                                                \n",
       "0               348.0    77453189.0    0.000449               0.000449   \n",
       "1           7210296.0    77452841.0    9.309231               9.309680   \n",
       "2           7813067.0    70242545.0   10.087470              19.397150   \n",
       "3           6951855.0    62429478.0    8.975557              28.372707   \n",
       "4           8909060.0    55477623.0   11.502509              39.875215   \n",
       "5          10430719.0    46568563.0   13.467127              53.342342   \n",
       "6           8981909.0    36137844.0   11.596564              64.938907   \n",
       "7           4880781.0    27155935.0    6.301588              71.240495   \n",
       "8          22275154.0    22275154.0   28.759505             100.000000   \n",
       "\n",
       "           cumulative_revenue  \n",
       "num_years                      \n",
       "0                       348.0  \n",
       "1                   7210644.0  \n",
       "2                  15023711.0  \n",
       "3                  21975566.0  \n",
       "4                  30884626.0  \n",
       "5                  41315345.0  \n",
       "6                  50297254.0  \n",
       "7                  55178035.0  \n",
       "8                  77453189.0  "
      ]
     },
     "execution_count": 145,
     "metadata": {},
     "output_type": "execute_result"
    }
   ],
   "source": [
    "revenue_per_years_active"
   ]
  },
  {
   "cell_type": "code",
   "execution_count": 103,
   "metadata": {},
   "outputs": [
    {
     "data": {
      "text/html": [
       "<div>\n",
       "<style scoped>\n",
       "    .dataframe tbody tr th:only-of-type {\n",
       "        vertical-align: middle;\n",
       "    }\n",
       "\n",
       "    .dataframe tbody tr th {\n",
       "        vertical-align: top;\n",
       "    }\n",
       "\n",
       "    .dataframe thead th {\n",
       "        text-align: right;\n",
       "    }\n",
       "</style>\n",
       "<table border=\"1\" class=\"dataframe\">\n",
       "  <thead>\n",
       "    <tr style=\"text-align: right;\">\n",
       "      <th></th>\n",
       "      <th>revenue</th>\n",
       "      <th>cumu_revenue</th>\n",
       "      <th>proportion</th>\n",
       "      <th>cumulative_proportion</th>\n",
       "      <th>cumulative_revenue</th>\n",
       "    </tr>\n",
       "    <tr>\n",
       "      <th>num_years</th>\n",
       "      <th></th>\n",
       "      <th></th>\n",
       "      <th></th>\n",
       "      <th></th>\n",
       "      <th></th>\n",
       "    </tr>\n",
       "  </thead>\n",
       "  <tbody>\n",
       "    <tr>\n",
       "      <th>0</th>\n",
       "      <td>348.0</td>\n",
       "      <td>77453189.0</td>\n",
       "      <td>0.000449</td>\n",
       "      <td>100.000000</td>\n",
       "      <td>77452841.0</td>\n",
       "    </tr>\n",
       "    <tr>\n",
       "      <th>1</th>\n",
       "      <td>7210296.0</td>\n",
       "      <td>77452841.0</td>\n",
       "      <td>9.309231</td>\n",
       "      <td>99.999551</td>\n",
       "      <td>70242545.0</td>\n",
       "    </tr>\n",
       "    <tr>\n",
       "      <th>2</th>\n",
       "      <td>7813067.0</td>\n",
       "      <td>70242545.0</td>\n",
       "      <td>10.087470</td>\n",
       "      <td>90.690320</td>\n",
       "      <td>62429478.0</td>\n",
       "    </tr>\n",
       "    <tr>\n",
       "      <th>3</th>\n",
       "      <td>6951855.0</td>\n",
       "      <td>62429478.0</td>\n",
       "      <td>8.975557</td>\n",
       "      <td>80.602850</td>\n",
       "      <td>55477623.0</td>\n",
       "    </tr>\n",
       "    <tr>\n",
       "      <th>4</th>\n",
       "      <td>8909060.0</td>\n",
       "      <td>55477623.0</td>\n",
       "      <td>11.502509</td>\n",
       "      <td>71.627293</td>\n",
       "      <td>46568563.0</td>\n",
       "    </tr>\n",
       "    <tr>\n",
       "      <th>5</th>\n",
       "      <td>10430719.0</td>\n",
       "      <td>46568563.0</td>\n",
       "      <td>13.467127</td>\n",
       "      <td>60.124785</td>\n",
       "      <td>36137844.0</td>\n",
       "    </tr>\n",
       "    <tr>\n",
       "      <th>6</th>\n",
       "      <td>8981909.0</td>\n",
       "      <td>36137844.0</td>\n",
       "      <td>11.596564</td>\n",
       "      <td>46.657658</td>\n",
       "      <td>27155935.0</td>\n",
       "    </tr>\n",
       "    <tr>\n",
       "      <th>7</th>\n",
       "      <td>4880781.0</td>\n",
       "      <td>27155935.0</td>\n",
       "      <td>6.301588</td>\n",
       "      <td>35.061093</td>\n",
       "      <td>22275154.0</td>\n",
       "    </tr>\n",
       "    <tr>\n",
       "      <th>8</th>\n",
       "      <td>22275154.0</td>\n",
       "      <td>22275154.0</td>\n",
       "      <td>28.759505</td>\n",
       "      <td>28.759505</td>\n",
       "      <td>0.0</td>\n",
       "    </tr>\n",
       "  </tbody>\n",
       "</table>\n",
       "</div>"
      ],
      "text/plain": [
       "              revenue  cumu_revenue  proportion  cumulative_proportion  \\\n",
       "num_years                                                                \n",
       "0               348.0    77453189.0    0.000449             100.000000   \n",
       "1           7210296.0    77452841.0    9.309231              99.999551   \n",
       "2           7813067.0    70242545.0   10.087470              90.690320   \n",
       "3           6951855.0    62429478.0    8.975557              80.602850   \n",
       "4           8909060.0    55477623.0   11.502509              71.627293   \n",
       "5          10430719.0    46568563.0   13.467127              60.124785   \n",
       "6           8981909.0    36137844.0   11.596564              46.657658   \n",
       "7           4880781.0    27155935.0    6.301588              35.061093   \n",
       "8          22275154.0    22275154.0   28.759505              28.759505   \n",
       "\n",
       "           cumulative_revenue  \n",
       "num_years                      \n",
       "0                  77452841.0  \n",
       "1                  70242545.0  \n",
       "2                  62429478.0  \n",
       "3                  55477623.0  \n",
       "4                  46568563.0  \n",
       "5                  36137844.0  \n",
       "6                  27155935.0  \n",
       "7                  22275154.0  \n",
       "8                         0.0  "
      ]
     },
     "execution_count": 103,
     "metadata": {},
     "output_type": "execute_result"
    }
   ],
   "source": [
    "revenue_per_years_active"
   ]
  },
  {
   "cell_type": "code",
   "execution_count": 147,
   "metadata": {},
   "outputs": [
    {
     "data": {
      "image/png": "[encoded data removed]",
      "text/plain": [
       "<Figure size 720x576 with 1 Axes>"
      ]
     },
     "metadata": {
      "needs_background": "light"
     },
     "output_type": "display_data"
    }
   ],
   "source": [
    "ax = revenue_per_years_active[['proportion']].plot.bar(\n",
    "    figsize=(10,8),\n",
    "    title='2018 Revenue Gained vs Customer Loyalty',\n",
    "    rot=0\n",
    ")\n",
    "\n",
    "ax.set_ylabel(\"% of Total 2018 Revenue\")\n",
    "ax.set_xlabel(\"Customer Lifetime in Years\")\n",
    "\n",
    "for p, percent in zip(ax.patches, list(revenue_per_years_active.proportion)):\n",
    "    ax.annotate(\"{:.2f}%\".format(percent), (p.get_x() * 1.005, p.get_height() * 1.008))"
   ]
  },
  {
   "cell_type": "code",
   "execution_count": 135,
   "metadata": {},
   "outputs": [
    {
     "data": {
      "text/plain": [
       "[0, 1, 2, 3, 4, 5, 6, 7, 8]"
      ]
     },
     "execution_count": 135,
     "metadata": {},
     "output_type": "execute_result"
    }
   ],
   "source": [
    "list(revenue_per_years_active.index)\n"
   ]
  },
  {
   "cell_type": "code",
   "execution_count": null,
   "metadata": {},
   "outputs": [],
   "source": []
  },
  {
   "cell_type": "code",
   "execution_count": 137,
   "metadata": {},
   "outputs": [
    {
     "data": {
      "image/png": "[encoded data removed]",
      "text/plain": [
       "<Figure size 720x576 with 1 Axes>"
      ]
     },
     "metadata": {
      "needs_background": "light"
     },
     "output_type": "display_data"
    }
   ],
   "source": [
    "ax = revenue_per_years_active[['cumulative_proportion']].plot.bar(\n",
    "    figsize=(10,8),\n",
    "    title='2018 Revenue Gained vs Customer Loyalty'\n",
    ")\n",
    "\n",
    "ax.set_ylabel(\"% of Total 2018 Revenue\")\n",
    "ax.set_xlabel(\"Customer Lifetime in Years\")\n",
    "ax.set_xticklabels([\"{}+\".format(i) for i in list(revenue_per_years_active.index)], rotation=0)\n",
    "\n",
    "for p, percent in zip(ax.patches, list(revenue_per_years_active.cumulative_proportion)):\n",
    "    ax.annotate(\"{:.2f}%\".format(percent), (p.get_x() * 1.005, p.get_height() * 1.008))"
   ]
  },
  {
   "cell_type": "code",
   "execution_count": 146,
   "metadata": {},
   "outputs": [
    {
     "data": {
      "image/png": "[encoded data removed]",
      "text/plain": [
       "<Figure size 720x576 with 1 Axes>"
      ]
     },
     "metadata": {
      "needs_background": "light"
     },
     "output_type": "display_data"
    }
   ],
   "source": [
    "ax = revenue_per_years_active[['cumulative_proportion']].plot.bar(\n",
    "    figsize=(10,8),\n",
    "    title='2018 Revenue Gained vs Customer Loyalty'\n",
    ")\n",
    "\n",
    "ax.set_ylabel(\"% of Total 2018 Revenue\")\n",
    "ax.set_xlabel(\"Customer Lifetime in Years\")\n",
    "ax.set_xticklabels([\"<={}\".format(i) for i in list(revenue_per_years_active.index)], rotation=0)\n",
    "\n",
    "for p, percent in zip(ax.patches, list(revenue_per_years_active.cumulative_proportion)):\n",
    "    ax.annotate(\"{:.2f}%\".format(percent), (p.get_x() * 1.005, p.get_height() * 1.008))"
   ]
  },
  {
   "cell_type": "code",
   "execution_count": null,
   "metadata": {},
   "outputs": [],
   "source": []
  },
  {
   "cell_type": "code",
   "execution_count": 131,
   "metadata": {},
   "outputs": [
    {
     "data": {
      "text/plain": [
       "revenue                  7.210296e+06\n",
       "cumu_revenue             7.745284e+07\n",
       "proportion               9.309231e+00\n",
       "cumulative_proportion    9.998255e+01\n",
       "cumulative_revenue       7.024254e+07\n",
       "Name: 1, dtype: float64"
      ]
     },
     "execution_count": 131,
     "metadata": {},
     "output_type": "execute_result"
    }
   ],
   "source": [
    "revenue_per_years_active.iloc[1]"
   ]
  },
  {
   "cell_type": "code",
   "execution_count": 16,
   "metadata": {},
   "outputs": [
    {
     "data": {
      "text/plain": [
       "userid                                    616421\n",
       "first_purchase_date                   2013-06-27\n",
       "renewal_date                          2018-06-14\n",
       "renewal_amount_due_usd                     45900\n",
       "licenses                                     900\n",
       "assigned_licenses                           2235\n",
       "market                                       ROW\n",
       "billing_country                               US\n",
       "billing_state                                 NY\n",
       "channel                                  offline\n",
       "total_meetings_30days                       5876\n",
       "total_meetings_30to60days                   4201\n",
       "meetingdays                                   31\n",
       "total_participants                          3624\n",
       "webcam_duration                             8150\n",
       "audio_duration                            453506\n",
       "Renew_Status                               CHURN\n",
       "first_purchase_year                         2013\n",
       "first_purchase_month                           6\n",
       "renewal_month                                  6\n",
       "renewal_year                                2018\n",
       "years_active                                   5\n",
       "renewal_amount_due_usd_per_license            51\n",
       "total_usage_duration                      461656\n",
       "Name: 1, dtype: object"
      ]
     },
     "execution_count": 16,
     "metadata": {},
     "output_type": "execute_result"
    }
   ],
   "source": [
    "churn.iloc[0]"
   ]
  },
  {
   "cell_type": "code",
   "execution_count": null,
   "metadata": {},
   "outputs": [],
   "source": []
  },
  {
   "cell_type": "markdown",
   "metadata": {},
   "source": [
    "# Visualise Usage\n",
    "\n",
    "- churner vs renewer"
   ]
  },
  {
   "cell_type": "code",
   "execution_count": 4,
   "metadata": {},
   "outputs": [],
   "source": [
    "renew_avg_usage = sum(renew.total_usage_duration) / len(renew)"
   ]
  },
  {
   "cell_type": "code",
   "execution_count": 9,
   "metadata": {},
   "outputs": [],
   "source": [
    "churn_avg_usage = sum(churn.total_usage_duration) / len(churn)"
   ]
  },
  {
   "cell_type": "code",
   "execution_count": 14,
   "metadata": {},
   "outputs": [],
   "source": [
    "df = pd.DataFrame({'average_usage': [renew_avg_usage, churn_avg_usage]})"
   ]
  },
  {
   "cell_type": "code",
   "execution_count": 15,
   "metadata": {},
   "outputs": [
    {
     "data": {
      "text/html": [
       "<div>\n",
       "<style scoped>\n",
       "    .dataframe tbody tr th:only-of-type {\n",
       "        vertical-align: middle;\n",
       "    }\n",
       "\n",
       "    .dataframe tbody tr th {\n",
       "        vertical-align: top;\n",
       "    }\n",
       "\n",
       "    .dataframe thead th {\n",
       "        text-align: right;\n",
       "    }\n",
       "</style>\n",
       "<table border=\"1\" class=\"dataframe\">\n",
       "  <thead>\n",
       "    <tr style=\"text-align: right;\">\n",
       "      <th></th>\n",
       "      <th>average_usage</th>\n",
       "    </tr>\n",
       "  </thead>\n",
       "  <tbody>\n",
       "    <tr>\n",
       "      <th>0</th>\n",
       "      <td>2779.355373</td>\n",
       "    </tr>\n",
       "    <tr>\n",
       "      <th>1</th>\n",
       "      <td>1761.321264</td>\n",
       "    </tr>\n",
       "  </tbody>\n",
       "</table>\n",
       "</div>"
      ],
      "text/plain": [
       "   average_usage\n",
       "0    2779.355373\n",
       "1    1761.321264"
      ]
     },
     "execution_count": 15,
     "metadata": {},
     "output_type": "execute_result"
    }
   ],
   "source": [
    "df"
   ]
  },
  {
   "cell_type": "code",
   "execution_count": 11,
   "metadata": {},
   "outputs": [
    {
     "data": {
      "text/html": [
       "<div>\n",
       "<style scoped>\n",
       "    .dataframe tbody tr th:only-of-type {\n",
       "        vertical-align: middle;\n",
       "    }\n",
       "\n",
       "    .dataframe tbody tr th {\n",
       "        vertical-align: top;\n",
       "    }\n",
       "\n",
       "    .dataframe thead th {\n",
       "        text-align: right;\n",
       "    }\n",
       "</style>\n",
       "<table border=\"1\" class=\"dataframe\">\n",
       "  <thead>\n",
       "    <tr style=\"text-align: right;\">\n",
       "      <th></th>\n",
       "      <th>renew_average_usage</th>\n",
       "      <th>churn_average_usage</th>\n",
       "    </tr>\n",
       "  </thead>\n",
       "  <tbody>\n",
       "    <tr>\n",
       "      <th>0</th>\n",
       "      <td>2779.355373</td>\n",
       "      <td>1761.321264</td>\n",
       "    </tr>\n",
       "  </tbody>\n",
       "</table>\n",
       "</div>"
      ],
      "text/plain": [
       "   renew_average_usage  churn_average_usage\n",
       "0          2779.355373          1761.321264"
      ]
     },
     "execution_count": 11,
     "metadata": {},
     "output_type": "execute_result"
    }
   ],
   "source": [
    "df"
   ]
  },
  {
   "cell_type": "code",
   "execution_count": 19,
   "metadata": {},
   "outputs": [
    {
     "data": {
      "text/plain": [
       "[Text(0, 0, 'Renewed'), Text(0, 0, 'Churned')]"
      ]
     },
     "execution_count": 19,
     "metadata": {},
     "output_type": "execute_result"
    },
    {
     "data": {
      "image/png": "[encoded data removed]",
      "text/plain": [
       "<Figure size 576x432 with 1 Axes>"
      ]
     },
     "metadata": {
      "needs_background": "light"
     },
     "output_type": "display_data"
    }
   ],
   "source": [
    "ax = df.plot.bar(\n",
    "    figsize=(8,6),\n",
    "    title='Average Total Usage Duration for Churned vs Renewed Customers'\n",
    ")\n",
    "\n",
    "ax.set_ylabel(\"Avg Duration (s)\")\n",
    "ax.set_xlabel(\"Customer\")\n",
    "ax.set_xticklabels([\"Renewed\", \"Churned\"], rotation=0)\n"
   ]
  },
  {
   "cell_type": "code",
   "execution_count": null,
   "metadata": {},
   "outputs": [],
   "source": []
  },
  {
   "cell_type": "code",
   "execution_count": null,
   "metadata": {},
   "outputs": [],
   "source": []
  },
  {
   "cell_type": "code",
   "execution_count": null,
   "metadata": {},
   "outputs": [],
   "source": []
  }
 ],
 "metadata": {
  "kernelspec": {
   "display_name": "Python 3",
   "language": "python",
   "name": "python3"
  },
  "language_info": {
   "codemirror_mode": {
    "name": "ipython",
    "version": 3
   },
   "file_extension": ".py",
   "mimetype": "text/x-python",
   "name": "python",
   "nbconvert_exporter": "python",
   "pygments_lexer": "ipython3",
   "version": "3.6.5"
  }
 },
 "nbformat": 4,
 "nbformat_minor": 2
}
