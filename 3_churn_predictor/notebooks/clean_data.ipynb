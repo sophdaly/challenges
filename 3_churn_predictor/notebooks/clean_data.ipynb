{
 "cells": [
  {
   "cell_type": "markdown",
   "metadata": {},
   "source": [
    "# Exploratory Notebook\n",
    "\n",
    "The purpose of this notebook is to explore the data, implement any processing steps and output cleaned dataset for further analysis or learning."
   ]
  },
  {
   "cell_type": "markdown",
   "metadata": {},
   "source": [
    "## Assignment\n",
    "\n",
    "- What insights can you provide the business based on the data?\n",
    "- Please describe the process and tools that you utilized to ‘clean’ and analyze the data.\n",
    "- Are there customer variables that are closely related to renewals or churn? \n",
    "- How would you communicate your findings to a business stakeholder responsible for driving retention?\n",
    "- How would you visualize this data in a concise, easily consumable format?  Feel free to provide example view.\n",
    "- Would you make a recommendation to the business based on this info?\n",
    "- What additional information would you look for in order to expand your analysis?\n",
    "- Any other items you would want to add?"
   ]
  },
  {
   "cell_type": "markdown",
   "metadata": {},
   "source": [
    "## Notes\n",
    "\n",
    "### Provided Data\n",
    "\n",
    "    'userid': unique id\n",
    "    'first_purchase_date': \n",
    "    'renewal_date': str,\n",
    "    'renewal_amount_due_usd': float,\n",
    "    'licenses': num licenses,\n",
    "    'assigned_licenses': int,\n",
    "    'market': {'ENG EMEA', 'NON ENG EMEA', 'ROW', nan},\n",
    "    'billing_country': country code str,\n",
    "    'billing_state': city free text str,\n",
    "    'channel': offline/online\n",
    "    'total_meetings_30days': int,\n",
    "    'total_meetings_30to60days': int,\n",
    "    'meetingdays': int,\n",
    "    'total_participants': int,\n",
    "    'webcam_duration': float,\n",
    "    'audio_duration': float,\n",
    "    'Renew_Status': {CHURN, RENEW}\n",
    "  "
   ]
  },
  {
   "cell_type": "code",
   "execution_count": 2,
   "metadata": {},
   "outputs": [],
   "source": [
    "import pandas as pd\n",
    "import numpy as np"
   ]
  },
  {
   "cell_type": "code",
   "execution_count": 2,
   "metadata": {},
   "outputs": [],
   "source": [
    "dtypes = {\n",
    "    'userid': str,\n",
    "    'first_purchase_date': str,\n",
    "    'renewal_date': str,\n",
    "    'renewal_amount_due_usd': float,\n",
    "    'licenses': int,\n",
    "    'assigned_licenses': int,\n",
    "    'market': str,\n",
    "    'billing_country': str,\n",
    "    'billing_state': str,\n",
    "    'channel': str,\n",
    "    'total_meetings_30days': int,\n",
    "    'total_meetings_30to60days': int,\n",
    "    'meetingdays': int,\n",
    "    'total_participants': int,\n",
    "    'webcam_duration': float,\n",
    "    'audio_duration': float,\n",
    "    'Renew_Status': str\n",
    "}"
   ]
  },
  {
   "cell_type": "code",
   "execution_count": 2,
   "metadata": {},
   "outputs": [
    {
     "name": "stdout",
     "output_type": "stream",
     "text": [
      "Total rows: 57599\n"
     ]
    }
   ],
   "source": [
    "df = pd.read_csv('../data/data.csv')\n",
    "print(\"Total rows: {}\".format(len(df)))"
   ]
  },
  {
   "cell_type": "code",
   "execution_count": 42,
   "metadata": {},
   "outputs": [],
   "source": [
    "df1 = pd.read_csv('../data/data.csv')\n"
   ]
  },
  {
   "cell_type": "code",
   "execution_count": 43,
   "metadata": {},
   "outputs": [
    {
     "data": {
      "text/plain": [
       "userid                       57599\n",
       "first_purchase_date          57597\n",
       "renewal_date                 57599\n",
       "renewal_amount_due_usd       57599\n",
       "licenses                     57599\n",
       "assigned_licenses            57599\n",
       "market                       13445\n",
       "billing_country              53839\n",
       "billing_state                45518\n",
       "channel                      57599\n",
       "total_meetings_30days        57599\n",
       "total_meetings_30to60days    57599\n",
       "meetingdays                  57599\n",
       "total_participants           40526\n",
       "webcam_duration              40351\n",
       "audio_duration               57599\n",
       "Renew_Status                 57599\n",
       "dtype: int64"
      ]
     },
     "execution_count": 43,
     "metadata": {},
     "output_type": "execute_result"
    }
   ],
   "source": [
    "df1.count()\n"
   ]
  },
  {
   "cell_type": "markdown",
   "metadata": {},
   "source": [
    "## Inspect Fields\n",
    "\n",
    "- inspect existing fields\n",
    "- add extra useful data fields "
   ]
  },
  {
   "cell_type": "code",
   "execution_count": 3,
   "metadata": {},
   "outputs": [
    {
     "data": {
      "text/plain": [
       "userid                       57599\n",
       "first_purchase_date          57597\n",
       "renewal_date                 57599\n",
       "renewal_amount_due_usd       57599\n",
       "licenses                     57599\n",
       "assigned_licenses            57599\n",
       "market                       13445\n",
       "billing_country              53839\n",
       "billing_state                45518\n",
       "channel                      57599\n",
       "total_meetings_30days        57599\n",
       "total_meetings_30to60days    57599\n",
       "meetingdays                  57599\n",
       "total_participants           40526\n",
       "webcam_duration              40351\n",
       "audio_duration               57599\n",
       "Renew_Status                 57599\n",
       "dtype: int64"
      ]
     },
     "execution_count": 3,
     "metadata": {},
     "output_type": "execute_result"
    }
   ],
   "source": [
    "df.count()"
   ]
  },
  {
   "cell_type": "markdown",
   "metadata": {},
   "source": [
    "### `userid`\n",
    "\n",
    "- no missing data\n",
    "- NOT unique id per subscription\n",
    "- unusal id formatting; length of id changes and recorded in scientific notation??"
   ]
  },
  {
   "cell_type": "code",
   "execution_count": 78,
   "metadata": {},
   "outputs": [
    {
     "data": {
      "text/plain": [
       "[9.22987e+17, 9.37721e+17, 9.81945e+17, 9.9101e+17]"
      ]
     },
     "execution_count": 78,
     "metadata": {},
     "output_type": "execute_result"
    }
   ],
   "source": [
    "ids[57595:]"
   ]
  },
  {
   "cell_type": "markdown",
   "metadata": {},
   "source": [
    "#### Not hugely important, just convert to ints and investigate later..."
   ]
  },
  {
   "cell_type": "code",
   "execution_count": 5,
   "metadata": {},
   "outputs": [],
   "source": [
    "df.userid = df.userid.apply(lambda x: int(x))"
   ]
  },
  {
   "cell_type": "code",
   "execution_count": 6,
   "metadata": {},
   "outputs": [
    {
     "name": "stdout",
     "output_type": "stream",
     "text": [
      "Total subscriptions: 56559\n"
     ]
    }
   ],
   "source": [
    "print(\"Total subscriptions: {}\".format(len(set(df.userid))))"
   ]
  },
  {
   "cell_type": "markdown",
   "metadata": {},
   "source": [
    "### `first_purchase_date`\n",
    "\n",
    "- 2 rows missing field"
   ]
  },
  {
   "cell_type": "code",
   "execution_count": 7,
   "metadata": {},
   "outputs": [
    {
     "data": {
      "text/html": [
       "<div>\n",
       "<style scoped>\n",
       "    .dataframe tbody tr th:only-of-type {\n",
       "        vertical-align: middle;\n",
       "    }\n",
       "\n",
       "    .dataframe tbody tr th {\n",
       "        vertical-align: top;\n",
       "    }\n",
       "\n",
       "    .dataframe thead th {\n",
       "        text-align: right;\n",
       "    }\n",
       "</style>\n",
       "<table border=\"1\" class=\"dataframe\">\n",
       "  <thead>\n",
       "    <tr style=\"text-align: right;\">\n",
       "      <th></th>\n",
       "      <th>userid</th>\n",
       "      <th>first_purchase_date</th>\n",
       "      <th>renewal_date</th>\n",
       "      <th>renewal_amount_due_usd</th>\n",
       "      <th>licenses</th>\n",
       "      <th>assigned_licenses</th>\n",
       "      <th>market</th>\n",
       "      <th>billing_country</th>\n",
       "      <th>billing_state</th>\n",
       "      <th>channel</th>\n",
       "      <th>total_meetings_30days</th>\n",
       "      <th>total_meetings_30to60days</th>\n",
       "      <th>meetingdays</th>\n",
       "      <th>total_participants</th>\n",
       "      <th>webcam_duration</th>\n",
       "      <th>audio_duration</th>\n",
       "      <th>Renew_Status</th>\n",
       "    </tr>\n",
       "  </thead>\n",
       "  <tbody>\n",
       "    <tr>\n",
       "      <th>19709</th>\n",
       "      <td>798576000000000000</td>\n",
       "      <td>NaN</td>\n",
       "      <td>6/1/2018</td>\n",
       "      <td>6720</td>\n",
       "      <td>10</td>\n",
       "      <td>0</td>\n",
       "      <td>NaN</td>\n",
       "      <td>US</td>\n",
       "      <td>NV</td>\n",
       "      <td>offline</td>\n",
       "      <td>8</td>\n",
       "      <td>2</td>\n",
       "      <td>7</td>\n",
       "      <td>12.0</td>\n",
       "      <td>0.0</td>\n",
       "      <td>644.0</td>\n",
       "      <td>RENEW</td>\n",
       "    </tr>\n",
       "    <tr>\n",
       "      <th>35264</th>\n",
       "      <td>8695830000000000000</td>\n",
       "      <td>NaN</td>\n",
       "      <td>6/15/2018</td>\n",
       "      <td>5400</td>\n",
       "      <td>10</td>\n",
       "      <td>0</td>\n",
       "      <td>NaN</td>\n",
       "      <td>US</td>\n",
       "      <td>MI</td>\n",
       "      <td>offline</td>\n",
       "      <td>1</td>\n",
       "      <td>2</td>\n",
       "      <td>1</td>\n",
       "      <td>2.0</td>\n",
       "      <td>0.0</td>\n",
       "      <td>8.0</td>\n",
       "      <td>RENEW</td>\n",
       "    </tr>\n",
       "  </tbody>\n",
       "</table>\n",
       "</div>"
      ],
      "text/plain": [
       "                    userid first_purchase_date renewal_date  \\\n",
       "19709   798576000000000000                 NaN     6/1/2018   \n",
       "35264  8695830000000000000                 NaN    6/15/2018   \n",
       "\n",
       "       renewal_amount_due_usd  licenses  assigned_licenses market  \\\n",
       "19709                    6720        10                  0    NaN   \n",
       "35264                    5400        10                  0    NaN   \n",
       "\n",
       "      billing_country billing_state  channel  total_meetings_30days  \\\n",
       "19709              US            NV  offline                      8   \n",
       "35264              US            MI  offline                      1   \n",
       "\n",
       "       total_meetings_30to60days  meetingdays  total_participants  \\\n",
       "19709                          2            7                12.0   \n",
       "35264                          2            1                 2.0   \n",
       "\n",
       "       webcam_duration  audio_duration Renew_Status  \n",
       "19709              0.0           644.0        RENEW  \n",
       "35264              0.0             8.0        RENEW  "
      ]
     },
     "execution_count": 7,
     "metadata": {},
     "output_type": "execute_result"
    }
   ],
   "source": [
    "df.loc[df.first_purchase_date.isnull()]"
   ]
  },
  {
   "cell_type": "code",
   "execution_count": 8,
   "metadata": {},
   "outputs": [],
   "source": [
    "df.first_purchase_date = pd.to_datetime(df.first_purchase_date, infer_datetime_format=True)"
   ]
  },
  {
   "cell_type": "code",
   "execution_count": 9,
   "metadata": {},
   "outputs": [
    {
     "data": {
      "text/plain": [
       "Timestamp('2010-01-22 00:00:00')"
      ]
     },
     "execution_count": 9,
     "metadata": {},
     "output_type": "execute_result"
    }
   ],
   "source": [
    "min(list(df.first_purchase_date))"
   ]
  },
  {
   "cell_type": "code",
   "execution_count": 10,
   "metadata": {},
   "outputs": [
    {
     "data": {
      "text/plain": [
       "Timestamp('2018-01-15 00:00:00')"
      ]
     },
     "execution_count": 10,
     "metadata": {},
     "output_type": "execute_result"
    }
   ],
   "source": [
    "max(list(df.first_purchase_date))"
   ]
  },
  {
   "cell_type": "markdown",
   "metadata": {},
   "source": [
    "### `first_purchase_year`"
   ]
  },
  {
   "cell_type": "code",
   "execution_count": 123,
   "metadata": {},
   "outputs": [],
   "source": [
    "df['first_purchase_year'] = df.first_purchase_date.apply(lambda x: x.year)"
   ]
  },
  {
   "cell_type": "markdown",
   "metadata": {},
   "source": [
    "### `first_purchase_month`"
   ]
  },
  {
   "cell_type": "code",
   "execution_count": 12,
   "metadata": {},
   "outputs": [],
   "source": [
    "df['first_purchase_month'] = df.first_purchase_date.apply(lambda x: x.month)"
   ]
  },
  {
   "cell_type": "markdown",
   "metadata": {},
   "source": [
    "### `renewal_date`\n",
    "\n",
    "- date in 2018 where subscription fee is due if subscriber is renewing"
   ]
  },
  {
   "cell_type": "code",
   "execution_count": 13,
   "metadata": {},
   "outputs": [],
   "source": [
    "df.renewal_date = pd.to_datetime(df.renewal_date, infer_datetime_format=True)"
   ]
  },
  {
   "cell_type": "code",
   "execution_count": 14,
   "metadata": {},
   "outputs": [
    {
     "data": {
      "text/plain": [
       "Timestamp('2018-02-13 00:00:00')"
      ]
     },
     "execution_count": 14,
     "metadata": {},
     "output_type": "execute_result"
    }
   ],
   "source": [
    "min(list(df.renewal_date))"
   ]
  },
  {
   "cell_type": "code",
   "execution_count": 15,
   "metadata": {},
   "outputs": [
    {
     "data": {
      "text/plain": [
       "Timestamp('2018-06-30 00:00:00')"
      ]
     },
     "execution_count": 15,
     "metadata": {},
     "output_type": "execute_result"
    }
   ],
   "source": [
    "max(list(df.renewal_date))"
   ]
  },
  {
   "cell_type": "code",
   "execution_count": 16,
   "metadata": {},
   "outputs": [],
   "source": [
    "df['renewal_month'] = df.renewal_date.apply(lambda x: x.month)"
   ]
  },
  {
   "cell_type": "code",
   "execution_count": 17,
   "metadata": {},
   "outputs": [],
   "source": [
    "df['renewal_year'] = df.renewal_date.apply(lambda x: x.year)"
   ]
  },
  {
   "cell_type": "code",
   "execution_count": 18,
   "metadata": {},
   "outputs": [
    {
     "data": {
      "text/plain": [
       "{2018}"
      ]
     },
     "execution_count": 18,
     "metadata": {},
     "output_type": "execute_result"
    }
   ],
   "source": [
    "set(df.renewal_year)"
   ]
  },
  {
   "cell_type": "markdown",
   "metadata": {},
   "source": [
    "### `years_active`\n",
    "\n",
    "- calculate how many years subscriber has been active\n",
    "- maybe can make this months later but years is fine for now"
   ]
  },
  {
   "cell_type": "code",
   "execution_count": 19,
   "metadata": {},
   "outputs": [],
   "source": [
    "def _get_years_active(row):\n",
    "    try:\n",
    "        y = row.renewal_year - row.first_purchase_year\n",
    "        return int(y)\n",
    "    except:\n",
    "        return np.nan"
   ]
  },
  {
   "cell_type": "code",
   "execution_count": 20,
   "metadata": {},
   "outputs": [],
   "source": [
    "df['years_active'] = df.apply(_get_years_active, axis=1)"
   ]
  },
  {
   "cell_type": "code",
   "execution_count": 28,
   "metadata": {},
   "outputs": [
    {
     "name": "stdout",
     "output_type": "stream",
     "text": [
      "Min: 0.0\n",
      "Max: 8.0\n",
      "Mean: 3.3717381113599667\n"
     ]
    }
   ],
   "source": [
    "l = list(df.dropna(subset=['years_active']).years_active)\n",
    "\n",
    "print(\"Min: {}\".format(min(l)))\n",
    "print(\"Max: {}\".format(max(l)))\n",
    "print(\"Mean: {}\".format(np.mean(l)))"
   ]
  },
  {
   "cell_type": "markdown",
   "metadata": {},
   "source": [
    "### `renewal_amount_due_usd`"
   ]
  },
  {
   "cell_type": "code",
   "execution_count": 52,
   "metadata": {},
   "outputs": [],
   "source": [
    "df.renewal_amount_due_usd = df.renewal_amount_due_usd.apply(lambda x: float(x))"
   ]
  },
  {
   "cell_type": "code",
   "execution_count": 114,
   "metadata": {},
   "outputs": [
    {
     "name": "stdout",
     "output_type": "stream",
     "text": [
      "Min amount = $26.0\n",
      "Max amount = $849264.0\n",
      "Mean amount = $1607.585096963489\n"
     ]
    }
   ],
   "source": [
    "r = list(df.renewal_amount_due_usd)\n",
    "\n",
    "print(\"Min amount = ${}\".format(min(r)))\n",
    "print(\"Max amount = ${}\".format(max(r)))\n",
    "print(\"Mean amount = ${}\".format(np.mean(r)))"
   ]
  },
  {
   "cell_type": "markdown",
   "metadata": {},
   "source": [
    "### `licenses`\n",
    "\n",
    "* number of licenses per subscription\n",
    "* current or just total sub licences of all time? "
   ]
  },
  {
   "cell_type": "code",
   "execution_count": 32,
   "metadata": {},
   "outputs": [
    {
     "name": "stdout",
     "output_type": "stream",
     "text": [
      "Min: 1\n",
      "Max: 27220\n",
      "Mean: 5.624299032969322\n"
     ]
    }
   ],
   "source": [
    "l = list(df.licenses)\n",
    "\n",
    "print(\"Min: {}\".format(min(l)))\n",
    "print(\"Max: {}\".format(max(l)))\n",
    "print(\"Mean: {}\".format(np.mean(l)))"
   ]
  },
  {
   "cell_type": "markdown",
   "metadata": {},
   "source": [
    "### `assigned_licenses`\n",
    "\n",
    "- licenses assigned to people\n",
    "- user can have purchased a license and just not have assigned it to anyone"
   ]
  },
  {
   "cell_type": "code",
   "execution_count": 33,
   "metadata": {},
   "outputs": [
    {
     "name": "stdout",
     "output_type": "stream",
     "text": [
      "Min: 0\n",
      "Max: 25154\n",
      "Mean: 5.590062327470963\n"
     ]
    }
   ],
   "source": [
    "l = list(df.assigned_licenses)\n",
    "\n",
    "print(\"Min: {}\".format(min(l)))\n",
    "print(\"Max: {}\".format(max(l)))\n",
    "print(\"Mean: {}\".format(np.mean(l)))"
   ]
  },
  {
   "cell_type": "code",
   "execution_count": 44,
   "metadata": {},
   "outputs": [
    {
     "name": "stdout",
     "output_type": "stream",
     "text": [
      "assigned == licensed: 49787\n",
      "assigned > licensed: 714\n",
      "assigned < licensed: 7098\n"
     ]
    }
   ],
   "source": [
    "a = df.loc[df.assigned_licenses > df.licenses]\n",
    "b = df.loc[df.assigned_licenses < df.licenses]\n",
    "c = df.loc[df.assigned_licenses == df.licenses]\n",
    "\n",
    "print(\"assigned == licensed: {}\".format(len(c)))\n",
    "print(\"assigned > licensed: {}\".format(len(a)))\n",
    "print(\"assigned < licensed: {}\".format(len(b)))"
   ]
  },
  {
   "cell_type": "markdown",
   "metadata": {},
   "source": [
    "### `renewal_amount_due_usd_per_license`"
   ]
  },
  {
   "cell_type": "code",
   "execution_count": 54,
   "metadata": {},
   "outputs": [],
   "source": [
    "df['renewal_amount_due_usd_per_license'] = df.apply(lambda r: r.renewal_amount_due_usd / r.licenses, axis=1)"
   ]
  },
  {
   "cell_type": "code",
   "execution_count": 59,
   "metadata": {},
   "outputs": [
    {
     "name": "stdout",
     "output_type": "stream",
     "text": [
      "Min: $10.666666666666666\n",
      "Max: $1813.0\n",
      "Mean: $378.2128609871642\n"
     ]
    }
   ],
   "source": [
    "l = list(df.renewal_amount_due_usd_per_license)\n",
    "\n",
    "print(\"Min: ${}\".format(min(l)))\n",
    "print(\"Max: ${}\".format(max(l)))\n",
    "print(\"Mean: ${}\".format(np.mean(l)))"
   ]
  },
  {
   "cell_type": "markdown",
   "metadata": {},
   "source": [
    "### `market`\n",
    "\n",
    "* ENG EMEA\n",
    "* NON ENG EMEA\n",
    "* ROW (Rest of World)\n",
    "* **Lots** of missing fields which can be inferred using billing country/state"
   ]
  },
  {
   "cell_type": "code",
   "execution_count": 66,
   "metadata": {},
   "outputs": [
    {
     "name": "stdout",
     "output_type": "stream",
     "text": [
      "Total ENG: 9653 [16.759%]\n",
      "Total NON ENG: 874 [1.517%]\n",
      "Total ROW: 2918 [5.066%]\n",
      "Total OTHER: 44154 [76.658%]\n"
     ]
    }
   ],
   "source": [
    "eng = df.loc[df.market == 'ENG EMEA']\n",
    "non_eng = df.loc[df.market == 'NON ENG EMEA']\n",
    "row = df.loc[df.market == 'ROW']\n",
    "other = df.loc[df.market.isnull()]\n",
    "total = len(df)\n",
    "\n",
    "print(\"Total ENG: {} [{:.3f}%]\".format(len(eng), (len(eng) / total * 100.0)))\n",
    "print(\"Total NON ENG: {} [{:.3f}%]\".format(len(non_eng), (len(non_eng) / total * 100.0)))\n",
    "print(\"Total ROW: {} [{:.3f}%]\".format(len(row), (len(row) / total * 100.0)))\n",
    "print(\"Total OTHER: {} [{:.3f}%]\".format(len(other), (len(other) / total * 100.0)))"
   ]
  },
  {
   "cell_type": "markdown",
   "metadata": {},
   "source": [
    "#### Investigate countries"
   ]
  },
  {
   "cell_type": "code",
   "execution_count": 82,
   "metadata": {
    "scrolled": true
   },
   "outputs": [
    {
     "name": "stdout",
     "output_type": "stream",
     "text": [
      "Total ENG countries: 68\n",
      "Total NON ENG countries: 30\n",
      "Total ROW countries: 28\n",
      "Total OTHER countries: 6\n"
     ]
    }
   ],
   "source": [
    "eng_countries = set(eng.dropna(subset=['billing_country']).billing_country)\n",
    "non_eng_countries = set(non_eng.dropna(subset=['billing_country']).billing_country)\n",
    "row_countries = set(row.dropna(subset=['billing_country']).billing_country)\n",
    "other_countries = set(other.dropna(subset=['billing_country']).billing_country)\n",
    "\n",
    "print(\"Total ENG countries: {}\".format(len(eng_countries)))\n",
    "print(\"Total NON ENG countries: {}\".format(len(non_eng_countries)))\n",
    "print(\"Total ROW countries: {}\".format(len(row_countries)))\n",
    "print(\"Total OTHER countries: {}\".format(len(other_countries)))"
   ]
  },
  {
   "cell_type": "markdown",
   "metadata": {},
   "source": [
    "#### Check overlap..."
   ]
  },
  {
   "cell_type": "code",
   "execution_count": 84,
   "metadata": {},
   "outputs": [
    {
     "data": {
      "text/plain": [
       "set()"
      ]
     },
     "execution_count": 84,
     "metadata": {},
     "output_type": "execute_result"
    }
   ],
   "source": [
    "set.intersection(eng_countries, non_eng_countries, row_countries)"
   ]
  },
  {
   "cell_type": "code",
   "execution_count": 98,
   "metadata": {},
   "outputs": [
    {
     "data": {
      "text/plain": [
       "set()"
      ]
     },
     "execution_count": 98,
     "metadata": {},
     "output_type": "execute_result"
    }
   ],
   "source": [
    "set.intersection(eng_countries, other_countries)"
   ]
  },
  {
   "cell_type": "code",
   "execution_count": 97,
   "metadata": {},
   "outputs": [
    {
     "data": {
      "text/plain": [
       "{'US'}"
      ]
     },
     "execution_count": 97,
     "metadata": {},
     "output_type": "execute_result"
    }
   ],
   "source": [
    "set.intersection(non_eng_countries, other_countries)"
   ]
  },
  {
   "cell_type": "code",
   "execution_count": 95,
   "metadata": {},
   "outputs": [
    {
     "data": {
      "text/plain": [
       "set()"
      ]
     },
     "execution_count": 95,
     "metadata": {},
     "output_type": "execute_result"
    }
   ],
   "source": [
    "set.intersection(row_countries, other_countries)"
   ]
  },
  {
   "cell_type": "code",
   "execution_count": 100,
   "metadata": {},
   "outputs": [
    {
     "data": {
      "text/plain": [
       "{'BM', 'BS', 'CA', 'KY', 'US', 'VG'}"
      ]
     },
     "execution_count": 100,
     "metadata": {},
     "output_type": "execute_result"
    }
   ],
   "source": [
    "other_countries"
   ]
  },
  {
   "cell_type": "markdown",
   "metadata": {},
   "source": [
    "### Manually fix US "
   ]
  },
  {
   "cell_type": "code",
   "execution_count": 99,
   "metadata": {
    "scrolled": true
   },
   "outputs": [
    {
     "data": {
      "text/html": [
       "<div>\n",
       "<style scoped>\n",
       "    .dataframe tbody tr th:only-of-type {\n",
       "        vertical-align: middle;\n",
       "    }\n",
       "\n",
       "    .dataframe tbody tr th {\n",
       "        vertical-align: top;\n",
       "    }\n",
       "\n",
       "    .dataframe thead th {\n",
       "        text-align: right;\n",
       "    }\n",
       "</style>\n",
       "<table border=\"1\" class=\"dataframe\">\n",
       "  <thead>\n",
       "    <tr style=\"text-align: right;\">\n",
       "      <th></th>\n",
       "      <th>userid</th>\n",
       "      <th>first_purchase_date</th>\n",
       "      <th>renewal_date</th>\n",
       "      <th>renewal_amount_due_usd</th>\n",
       "      <th>licenses</th>\n",
       "      <th>assigned_licenses</th>\n",
       "      <th>market</th>\n",
       "      <th>billing_country</th>\n",
       "      <th>billing_state</th>\n",
       "      <th>channel</th>\n",
       "      <th>...</th>\n",
       "      <th>total_participants</th>\n",
       "      <th>webcam_duration</th>\n",
       "      <th>audio_duration</th>\n",
       "      <th>Renew_Status</th>\n",
       "      <th>first_purchase_year</th>\n",
       "      <th>first_purchase_month</th>\n",
       "      <th>renewal_month</th>\n",
       "      <th>renewal_year</th>\n",
       "      <th>years_active</th>\n",
       "      <th>renewal_amount_due_usd_per_license</th>\n",
       "    </tr>\n",
       "  </thead>\n",
       "  <tbody>\n",
       "    <tr>\n",
       "      <th>3273</th>\n",
       "      <td>197546000000000000</td>\n",
       "      <td>2014-10-30</td>\n",
       "      <td>2018-06-22</td>\n",
       "      <td>258.0</td>\n",
       "      <td>1</td>\n",
       "      <td>1</td>\n",
       "      <td>NON ENG EMEA</td>\n",
       "      <td>US</td>\n",
       "      <td>FL</td>\n",
       "      <td>online</td>\n",
       "      <td>...</td>\n",
       "      <td>46.0</td>\n",
       "      <td>277.05</td>\n",
       "      <td>5523.89</td>\n",
       "      <td>CHURN</td>\n",
       "      <td>2014.0</td>\n",
       "      <td>10.0</td>\n",
       "      <td>6</td>\n",
       "      <td>2018</td>\n",
       "      <td>4.0</td>\n",
       "      <td>258.0</td>\n",
       "    </tr>\n",
       "    <tr>\n",
       "      <th>5634</th>\n",
       "      <td>755685</td>\n",
       "      <td>2013-04-28</td>\n",
       "      <td>2018-06-08</td>\n",
       "      <td>468.0</td>\n",
       "      <td>1</td>\n",
       "      <td>1</td>\n",
       "      <td>NON ENG EMEA</td>\n",
       "      <td>US</td>\n",
       "      <td>TX</td>\n",
       "      <td>online</td>\n",
       "      <td>...</td>\n",
       "      <td>74.0</td>\n",
       "      <td>288.00</td>\n",
       "      <td>157.00</td>\n",
       "      <td>RENEW</td>\n",
       "      <td>2013.0</td>\n",
       "      <td>4.0</td>\n",
       "      <td>6</td>\n",
       "      <td>2018</td>\n",
       "      <td>5.0</td>\n",
       "      <td>468.0</td>\n",
       "    </tr>\n",
       "  </tbody>\n",
       "</table>\n",
       "<p>2 rows × 23 columns</p>\n",
       "</div>"
      ],
      "text/plain": [
       "                  userid first_purchase_date renewal_date  \\\n",
       "3273  197546000000000000          2014-10-30   2018-06-22   \n",
       "5634              755685          2013-04-28   2018-06-08   \n",
       "\n",
       "      renewal_amount_due_usd  licenses  assigned_licenses        market  \\\n",
       "3273                   258.0         1                  1  NON ENG EMEA   \n",
       "5634                   468.0         1                  1  NON ENG EMEA   \n",
       "\n",
       "     billing_country billing_state channel  \\\n",
       "3273              US            FL  online   \n",
       "5634              US            TX  online   \n",
       "\n",
       "                     ...                  total_participants  webcam_duration  \\\n",
       "3273                 ...                                46.0           277.05   \n",
       "5634                 ...                                74.0           288.00   \n",
       "\n",
       "      audio_duration  Renew_Status  first_purchase_year  first_purchase_month  \\\n",
       "3273         5523.89         CHURN               2014.0                  10.0   \n",
       "5634          157.00         RENEW               2013.0                   4.0   \n",
       "\n",
       "     renewal_month  renewal_year  years_active  \\\n",
       "3273             6          2018           4.0   \n",
       "5634             6          2018           5.0   \n",
       "\n",
       "      renewal_amount_due_usd_per_license  \n",
       "3273                               258.0  \n",
       "5634                               468.0  \n",
       "\n",
       "[2 rows x 23 columns]"
      ]
     },
     "execution_count": 99,
     "metadata": {},
     "output_type": "execute_result"
    }
   ],
   "source": [
    "df.loc[(df.billing_country == 'US') & (df.market == 'NON ENG EMEA')]"
   ]
  },
  {
   "cell_type": "code",
   "execution_count": 101,
   "metadata": {},
   "outputs": [],
   "source": [
    "df.loc[df.billing_country == 'US', 'market'] = 'ROW'"
   ]
  },
  {
   "cell_type": "markdown",
   "metadata": {},
   "source": [
    "### Manually fix 'other' countries"
   ]
  },
  {
   "cell_type": "code",
   "execution_count": 102,
   "metadata": {},
   "outputs": [
    {
     "data": {
      "text/plain": [
       "{'BM', 'BS', 'CA', 'KY', 'US', 'VG'}"
      ]
     },
     "execution_count": 102,
     "metadata": {},
     "output_type": "execute_result"
    }
   ],
   "source": [
    "other_countries"
   ]
  },
  {
   "cell_type": "markdown",
   "metadata": {},
   "source": [
    "#### Bermuda"
   ]
  },
  {
   "cell_type": "code",
   "execution_count": 103,
   "metadata": {},
   "outputs": [],
   "source": [
    "df.loc[df.billing_country == 'BM', 'market'] = 'ROW'"
   ]
  },
  {
   "cell_type": "markdown",
   "metadata": {},
   "source": [
    "#### Bahamas"
   ]
  },
  {
   "cell_type": "code",
   "execution_count": 104,
   "metadata": {},
   "outputs": [],
   "source": [
    "df.loc[df.billing_country == 'BS', 'market'] = 'ROW'"
   ]
  },
  {
   "cell_type": "markdown",
   "metadata": {},
   "source": [
    "#### Canada"
   ]
  },
  {
   "cell_type": "code",
   "execution_count": 105,
   "metadata": {},
   "outputs": [],
   "source": [
    "df.loc[df.billing_country == 'CA', 'market'] = 'ROW'"
   ]
  },
  {
   "cell_type": "markdown",
   "metadata": {},
   "source": [
    "#### Cayman Islands"
   ]
  },
  {
   "cell_type": "code",
   "execution_count": 106,
   "metadata": {},
   "outputs": [],
   "source": [
    "df.loc[df.billing_country == 'KY', 'market'] = 'ROW'"
   ]
  },
  {
   "cell_type": "markdown",
   "metadata": {},
   "source": [
    "#### Virgin Islands"
   ]
  },
  {
   "cell_type": "code",
   "execution_count": 107,
   "metadata": {},
   "outputs": [],
   "source": [
    "df.loc[df.billing_country == 'VG', 'market'] = 'ROW'"
   ]
  },
  {
   "cell_type": "markdown",
   "metadata": {},
   "source": [
    "### Cleaned `market`\n",
    "\n",
    "- reduced 'other' significantly\n",
    "- ~3k rows with missing markets have significanly lower number of subscriptions and hence monetary impact"
   ]
  },
  {
   "cell_type": "code",
   "execution_count": 108,
   "metadata": {},
   "outputs": [
    {
     "name": "stdout",
     "output_type": "stream",
     "text": [
      "Total ENG EMEA: 9653 [16.759%]\n",
      "Total NON ENG EMEA: 872 [1.514%]\n",
      "Total ROW: 44199 [76.736%]\n",
      "Total OTHER: 2875 [4.991%]\n"
     ]
    }
   ],
   "source": [
    "eng = df.loc[df.market == 'ENG EMEA']\n",
    "non_eng = df.loc[df.market == 'NON ENG EMEA']\n",
    "row = df.loc[df.market == 'ROW']\n",
    "other = df.loc[df.market.isnull()]\n",
    "total = len(df)\n",
    "\n",
    "print(\"Total ENG EMEA: {} [{:.3f}%]\".format(len(eng), (len(eng) / total * 100.0)))\n",
    "print(\"Total NON ENG EMEA: {} [{:.3f}%]\".format(len(non_eng), (len(non_eng) / total * 100.0)))\n",
    "print(\"Total ROW: {} [{:.3f}%]\".format(len(row), (len(row) / total * 100.0)))\n",
    "print(\"Total OTHER: {} [{:.3f}%]\".format(len(other), (len(other) / total * 100.0)))"
   ]
  },
  {
   "cell_type": "code",
   "execution_count": 110,
   "metadata": {},
   "outputs": [
    {
     "data": {
      "text/html": [
       "<div>\n",
       "<style scoped>\n",
       "    .dataframe tbody tr th:only-of-type {\n",
       "        vertical-align: middle;\n",
       "    }\n",
       "\n",
       "    .dataframe tbody tr th {\n",
       "        vertical-align: top;\n",
       "    }\n",
       "\n",
       "    .dataframe thead th {\n",
       "        text-align: right;\n",
       "    }\n",
       "</style>\n",
       "<table border=\"1\" class=\"dataframe\">\n",
       "  <thead>\n",
       "    <tr style=\"text-align: right;\">\n",
       "      <th></th>\n",
       "      <th>userid</th>\n",
       "      <th>first_purchase_date</th>\n",
       "      <th>renewal_date</th>\n",
       "      <th>renewal_amount_due_usd</th>\n",
       "      <th>licenses</th>\n",
       "      <th>assigned_licenses</th>\n",
       "      <th>market</th>\n",
       "      <th>billing_country</th>\n",
       "      <th>billing_state</th>\n",
       "      <th>channel</th>\n",
       "      <th>...</th>\n",
       "      <th>total_participants</th>\n",
       "      <th>webcam_duration</th>\n",
       "      <th>audio_duration</th>\n",
       "      <th>Renew_Status</th>\n",
       "      <th>first_purchase_year</th>\n",
       "      <th>first_purchase_month</th>\n",
       "      <th>renewal_month</th>\n",
       "      <th>renewal_year</th>\n",
       "      <th>years_active</th>\n",
       "      <th>renewal_amount_due_usd_per_license</th>\n",
       "    </tr>\n",
       "  </thead>\n",
       "  <tbody>\n",
       "  </tbody>\n",
       "</table>\n",
       "<p>0 rows × 23 columns</p>\n",
       "</div>"
      ],
      "text/plain": [
       "Empty DataFrame\n",
       "Columns: [userid, first_purchase_date, renewal_date, renewal_amount_due_usd, licenses, assigned_licenses, market, billing_country, billing_state, channel, total_meetings_30days, total_meetings_30to60days, meetingdays, total_participants, webcam_duration, audio_duration, Renew_Status, first_purchase_year, first_purchase_month, renewal_month, renewal_year, years_active, renewal_amount_due_usd_per_license]\n",
       "Index: []\n",
       "\n",
       "[0 rows x 23 columns]"
      ]
     },
     "execution_count": 110,
     "metadata": {},
     "output_type": "execute_result"
    }
   ],
   "source": [
    "other.loc[(~other.billing_country.isnull())]"
   ]
  },
  {
   "cell_type": "code",
   "execution_count": 116,
   "metadata": {},
   "outputs": [
    {
     "name": "stdout",
     "output_type": "stream",
     "text": [
      "Min amount = $46.0\n",
      "Max amount = $3744.0\n",
      "Mean amount = $349.44347826086954\n"
     ]
    }
   ],
   "source": [
    "r = list(other.renewal_amount_due_usd)\n",
    "\n",
    "print(\"Min amount = ${}\".format(min(r)))\n",
    "print(\"Max amount = ${}\".format(max(r)))\n",
    "print(\"Mean amount = ${}\".format(np.mean(r)))"
   ]
  },
  {
   "cell_type": "code",
   "execution_count": 118,
   "metadata": {},
   "outputs": [
    {
     "name": "stdout",
     "output_type": "stream",
     "text": [
      "Min: 1\n",
      "Max: 8\n",
      "Mean: 1.0747826086956522\n"
     ]
    }
   ],
   "source": [
    "l = list(other.licenses)\n",
    "\n",
    "print(\"Min: {}\".format(min(l)))\n",
    "print(\"Max: {}\".format(max(l)))\n",
    "print(\"Mean: {}\".format(np.mean(l)))"
   ]
  },
  {
   "cell_type": "code",
   "execution_count": 119,
   "metadata": {},
   "outputs": [
    {
     "data": {
      "text/html": [
       "<div>\n",
       "<style scoped>\n",
       "    .dataframe tbody tr th:only-of-type {\n",
       "        vertical-align: middle;\n",
       "    }\n",
       "\n",
       "    .dataframe tbody tr th {\n",
       "        vertical-align: top;\n",
       "    }\n",
       "\n",
       "    .dataframe thead th {\n",
       "        text-align: right;\n",
       "    }\n",
       "</style>\n",
       "<table border=\"1\" class=\"dataframe\">\n",
       "  <thead>\n",
       "    <tr style=\"text-align: right;\">\n",
       "      <th></th>\n",
       "      <th>userid</th>\n",
       "      <th>first_purchase_date</th>\n",
       "      <th>renewal_date</th>\n",
       "      <th>renewal_amount_due_usd</th>\n",
       "      <th>licenses</th>\n",
       "      <th>assigned_licenses</th>\n",
       "      <th>market</th>\n",
       "      <th>billing_country</th>\n",
       "      <th>billing_state</th>\n",
       "      <th>channel</th>\n",
       "      <th>...</th>\n",
       "      <th>total_participants</th>\n",
       "      <th>webcam_duration</th>\n",
       "      <th>audio_duration</th>\n",
       "      <th>Renew_Status</th>\n",
       "      <th>first_purchase_year</th>\n",
       "      <th>first_purchase_month</th>\n",
       "      <th>renewal_month</th>\n",
       "      <th>renewal_year</th>\n",
       "      <th>years_active</th>\n",
       "      <th>renewal_amount_due_usd_per_license</th>\n",
       "    </tr>\n",
       "  </thead>\n",
       "  <tbody>\n",
       "    <tr>\n",
       "      <th>12774</th>\n",
       "      <td>655089</td>\n",
       "      <td>2013-08-24</td>\n",
       "      <td>2018-06-23</td>\n",
       "      <td>3744.0</td>\n",
       "      <td>8</td>\n",
       "      <td>8</td>\n",
       "      <td>NaN</td>\n",
       "      <td>NaN</td>\n",
       "      <td>NaN</td>\n",
       "      <td>online</td>\n",
       "      <td>...</td>\n",
       "      <td>14.0</td>\n",
       "      <td>0.0</td>\n",
       "      <td>1192.95</td>\n",
       "      <td>RENEW</td>\n",
       "      <td>2013.0</td>\n",
       "      <td>8.0</td>\n",
       "      <td>6</td>\n",
       "      <td>2018</td>\n",
       "      <td>5.0</td>\n",
       "      <td>468.0</td>\n",
       "    </tr>\n",
       "    <tr>\n",
       "      <th>46705</th>\n",
       "      <td>2882990000000000000</td>\n",
       "      <td>2017-04-18</td>\n",
       "      <td>2018-04-19</td>\n",
       "      <td>2784.0</td>\n",
       "      <td>8</td>\n",
       "      <td>5</td>\n",
       "      <td>NaN</td>\n",
       "      <td>NaN</td>\n",
       "      <td>NaN</td>\n",
       "      <td>online</td>\n",
       "      <td>...</td>\n",
       "      <td>NaN</td>\n",
       "      <td>NaN</td>\n",
       "      <td>0.00</td>\n",
       "      <td>CHURN</td>\n",
       "      <td>2017.0</td>\n",
       "      <td>4.0</td>\n",
       "      <td>4</td>\n",
       "      <td>2018</td>\n",
       "      <td>1.0</td>\n",
       "      <td>348.0</td>\n",
       "    </tr>\n",
       "  </tbody>\n",
       "</table>\n",
       "<p>2 rows × 23 columns</p>\n",
       "</div>"
      ],
      "text/plain": [
       "                    userid first_purchase_date renewal_date  \\\n",
       "12774               655089          2013-08-24   2018-06-23   \n",
       "46705  2882990000000000000          2017-04-18   2018-04-19   \n",
       "\n",
       "       renewal_amount_due_usd  licenses  assigned_licenses market  \\\n",
       "12774                  3744.0         8                  8    NaN   \n",
       "46705                  2784.0         8                  5    NaN   \n",
       "\n",
       "      billing_country billing_state channel  \\\n",
       "12774             NaN           NaN  online   \n",
       "46705             NaN           NaN  online   \n",
       "\n",
       "                      ...                  total_participants  \\\n",
       "12774                 ...                                14.0   \n",
       "46705                 ...                                 NaN   \n",
       "\n",
       "       webcam_duration  audio_duration  Renew_Status  first_purchase_year  \\\n",
       "12774              0.0         1192.95         RENEW               2013.0   \n",
       "46705              NaN            0.00         CHURN               2017.0   \n",
       "\n",
       "       first_purchase_month renewal_month  renewal_year  years_active  \\\n",
       "12774                   8.0             6          2018           5.0   \n",
       "46705                   4.0             4          2018           1.0   \n",
       "\n",
       "       renewal_amount_due_usd_per_license  \n",
       "12774                               468.0  \n",
       "46705                               348.0  \n",
       "\n",
       "[2 rows x 23 columns]"
      ]
     },
     "execution_count": 119,
     "metadata": {},
     "output_type": "execute_result"
    }
   ],
   "source": [
    "other.loc[other.licenses == 8]"
   ]
  },
  {
   "cell_type": "markdown",
   "metadata": {},
   "source": [
    "### `billing_country`\n",
    "\n",
    "- country codes\n",
    "- missing values\n"
   ]
  },
  {
   "cell_type": "code",
   "execution_count": 128,
   "metadata": {},
   "outputs": [
    {
     "name": "stdout",
     "output_type": "stream",
     "text": [
      "Total countries: 132\n"
     ]
    }
   ],
   "source": [
    "countries = set(list(df.billing_country))\n",
    "print(\"Total countries: {}\".format(len(countries)))"
   ]
  },
  {
   "cell_type": "markdown",
   "metadata": {},
   "source": [
    "### `billing_state`\n",
    "\n",
    "- states/cities\n",
    "- free text 💩\n",
    "- missing values"
   ]
  },
  {
   "cell_type": "code",
   "execution_count": 127,
   "metadata": {},
   "outputs": [
    {
     "name": "stdout",
     "output_type": "stream",
     "text": [
      "Total states: 1108\n"
     ]
    }
   ],
   "source": [
    "states = set(list(df.billing_state))\n",
    "print(\"Total states: {}\".format(len(states)))"
   ]
  },
  {
   "cell_type": "markdown",
   "metadata": {},
   "source": [
    "### `channel`\n",
    "\n",
    "- online/offline\n",
    "- no missing data"
   ]
  },
  {
   "cell_type": "code",
   "execution_count": 129,
   "metadata": {},
   "outputs": [
    {
     "name": "stdout",
     "output_type": "stream",
     "text": [
      "Total Online: 40874 [70.963%]\n",
      "Total Offline: 16725 [29.037%]\n"
     ]
    }
   ],
   "source": [
    "online = df.loc[df.channel == 'online']\n",
    "offline = df.loc[df.channel == 'offline']\n",
    "total = len(df)\n",
    "\n",
    "print(\"Total Online: {} [{:.3f}%]\".format(len(online), (len(online) / total * 100.0)))\n",
    "print(\"Total Offline: {} [{:.3f}%]\".format(len(offline), (len(offline) / total * 100.0)))"
   ]
  },
  {
   "cell_type": "markdown",
   "metadata": {},
   "source": [
    "### `total_meetings_30days`\n",
    "\n",
    "- num meetings in last 30 days?"
   ]
  },
  {
   "cell_type": "code",
   "execution_count": 131,
   "metadata": {},
   "outputs": [
    {
     "name": "stdout",
     "output_type": "stream",
     "text": [
      "Min: 0\n",
      "Max: 119898\n",
      "Mean: 35.76174933592597\n"
     ]
    }
   ],
   "source": [
    "l = list(df.total_meetings_30days)\n",
    "\n",
    "print(\"Min: {}\".format(min(l)))\n",
    "print(\"Max: {}\".format(max(l)))\n",
    "print(\"Mean: {}\".format(np.mean(l)))"
   ]
  },
  {
   "cell_type": "markdown",
   "metadata": {},
   "source": [
    "### `total_meetings_30to60days`\n",
    "\n",
    "- num meetings in previous 30 days"
   ]
  },
  {
   "cell_type": "code",
   "execution_count": 135,
   "metadata": {},
   "outputs": [
    {
     "name": "stdout",
     "output_type": "stream",
     "text": [
      "Min: 0\n",
      "Max: 92294\n",
      "Mean: 20.057935033594333\n"
     ]
    }
   ],
   "source": [
    "l = list(df.total_meetings_30to60days)\n",
    "\n",
    "print(\"Min: {}\".format(min(l)))\n",
    "print(\"Max: {}\".format(max(l)))\n",
    "print(\"Mean: {}\".format(np.mean(l)))"
   ]
  },
  {
   "cell_type": "markdown",
   "metadata": {},
   "source": [
    "### `meetingdays`"
   ]
  },
  {
   "cell_type": "code",
   "execution_count": 137,
   "metadata": {},
   "outputs": [
    {
     "name": "stdout",
     "output_type": "stream",
     "text": [
      "Min: 0\n",
      "Max: 31\n"
     ]
    }
   ],
   "source": [
    "l = list(df.meetingdays)\n",
    "\n",
    "print(\"Min: {}\".format(min(l)))\n",
    "print(\"Max: {}\".format(max(l)))"
   ]
  },
  {
   "cell_type": "code",
   "execution_count": 140,
   "metadata": {
    "scrolled": true
   },
   "outputs": [
    {
     "data": {
      "text/plain": [
       "meetingdays\n",
       "0     16910\n",
       "1      5245\n",
       "2      3840\n",
       "3      3126\n",
       "4      2690\n",
       "5      2476\n",
       "6      2080\n",
       "7      1753\n",
       "8      1691\n",
       "9      1495\n",
       "10     1317\n",
       "11     1248\n",
       "12     1134\n",
       "13     1038\n",
       "14      976\n",
       "15      925\n",
       "16      876\n",
       "17      826\n",
       "18      832\n",
       "19      812\n",
       "20      830\n",
       "21     1063\n",
       "22     1762\n",
       "23      889\n",
       "24      502\n",
       "25      313\n",
       "26      233\n",
       "27      151\n",
       "28       65\n",
       "29       44\n",
       "30       47\n",
       "31       72\n",
       "Name: userid, dtype: int64"
      ]
     },
     "execution_count": 140,
     "metadata": {},
     "output_type": "execute_result"
    }
   ],
   "source": [
    "df.groupby('meetingdays').userid.nunique()"
   ]
  },
  {
   "cell_type": "markdown",
   "metadata": {},
   "source": [
    "### `total_participants`\n",
    "\n",
    "- missing data\n",
    "- all missing data is missing webcam_duration and audio duration too"
   ]
  },
  {
   "cell_type": "code",
   "execution_count": 148,
   "metadata": {},
   "outputs": [
    {
     "name": "stdout",
     "output_type": "stream",
     "text": [
      "Min: 0.0\n",
      "Max: 83192.0\n",
      "Mean: 41.027809307605\n"
     ]
    }
   ],
   "source": [
    "l = list(df.dropna(subset=['total_participants']).total_participants)\n",
    "\n",
    "print(\"Min: {}\".format(min(l)))\n",
    "print(\"Max: {}\".format(max(l)))\n",
    "print(\"Mean: {}\".format(np.mean(l)))"
   ]
  },
  {
   "cell_type": "code",
   "execution_count": 31,
   "metadata": {},
   "outputs": [
    {
     "data": {
      "text/html": [
       "<div>\n",
       "<style scoped>\n",
       "    .dataframe tbody tr th:only-of-type {\n",
       "        vertical-align: middle;\n",
       "    }\n",
       "\n",
       "    .dataframe tbody tr th {\n",
       "        vertical-align: top;\n",
       "    }\n",
       "\n",
       "    .dataframe thead th {\n",
       "        text-align: right;\n",
       "    }\n",
       "</style>\n",
       "<table border=\"1\" class=\"dataframe\">\n",
       "  <thead>\n",
       "    <tr style=\"text-align: right;\">\n",
       "      <th></th>\n",
       "      <th>userid</th>\n",
       "      <th>first_purchase_date</th>\n",
       "      <th>renewal_date</th>\n",
       "      <th>renewal_amount_due_usd</th>\n",
       "      <th>licenses</th>\n",
       "      <th>assigned_licenses</th>\n",
       "      <th>market</th>\n",
       "      <th>billing_country</th>\n",
       "      <th>billing_state</th>\n",
       "      <th>channel</th>\n",
       "      <th>...</th>\n",
       "      <th>total_participants</th>\n",
       "      <th>webcam_duration</th>\n",
       "      <th>audio_duration</th>\n",
       "      <th>Renew_Status</th>\n",
       "      <th>first_purchase_year</th>\n",
       "      <th>first_purchase_month</th>\n",
       "      <th>renewal_month</th>\n",
       "      <th>renewal_year</th>\n",
       "      <th>years_active</th>\n",
       "      <th>renewal_amount_due_usd_per_license</th>\n",
       "    </tr>\n",
       "  </thead>\n",
       "  <tbody>\n",
       "  </tbody>\n",
       "</table>\n",
       "<p>0 rows × 23 columns</p>\n",
       "</div>"
      ],
      "text/plain": [
       "Empty DataFrame\n",
       "Columns: [userid, first_purchase_date, renewal_date, renewal_amount_due_usd, licenses, assigned_licenses, market, billing_country, billing_state, channel, total_meetings_30days, total_meetings_30to60days, meetingdays, total_participants, webcam_duration, audio_duration, Renew_Status, first_purchase_year, first_purchase_month, renewal_month, renewal_year, years_active, renewal_amount_due_usd_per_license]\n",
       "Index: []\n",
       "\n",
       "[0 rows x 23 columns]"
      ]
     },
     "execution_count": 31,
     "metadata": {},
     "output_type": "execute_result"
    }
   ],
   "source": [
    "df.loc[df.total_participants.isnull() & ~df.webcam_duration.isnull()]"
   ]
  },
  {
   "cell_type": "code",
   "execution_count": 32,
   "metadata": {},
   "outputs": [
    {
     "data": {
      "text/html": [
       "<div>\n",
       "<style scoped>\n",
       "    .dataframe tbody tr th:only-of-type {\n",
       "        vertical-align: middle;\n",
       "    }\n",
       "\n",
       "    .dataframe tbody tr th {\n",
       "        vertical-align: top;\n",
       "    }\n",
       "\n",
       "    .dataframe thead th {\n",
       "        text-align: right;\n",
       "    }\n",
       "</style>\n",
       "<table border=\"1\" class=\"dataframe\">\n",
       "  <thead>\n",
       "    <tr style=\"text-align: right;\">\n",
       "      <th></th>\n",
       "      <th>userid</th>\n",
       "      <th>first_purchase_date</th>\n",
       "      <th>renewal_date</th>\n",
       "      <th>renewal_amount_due_usd</th>\n",
       "      <th>licenses</th>\n",
       "      <th>assigned_licenses</th>\n",
       "      <th>market</th>\n",
       "      <th>billing_country</th>\n",
       "      <th>billing_state</th>\n",
       "      <th>channel</th>\n",
       "      <th>...</th>\n",
       "      <th>total_participants</th>\n",
       "      <th>webcam_duration</th>\n",
       "      <th>audio_duration</th>\n",
       "      <th>Renew_Status</th>\n",
       "      <th>first_purchase_year</th>\n",
       "      <th>first_purchase_month</th>\n",
       "      <th>renewal_month</th>\n",
       "      <th>renewal_year</th>\n",
       "      <th>years_active</th>\n",
       "      <th>renewal_amount_due_usd_per_license</th>\n",
       "    </tr>\n",
       "  </thead>\n",
       "  <tbody>\n",
       "  </tbody>\n",
       "</table>\n",
       "<p>0 rows × 23 columns</p>\n",
       "</div>"
      ],
      "text/plain": [
       "Empty DataFrame\n",
       "Columns: [userid, first_purchase_date, renewal_date, renewal_amount_due_usd, licenses, assigned_licenses, market, billing_country, billing_state, channel, total_meetings_30days, total_meetings_30to60days, meetingdays, total_participants, webcam_duration, audio_duration, Renew_Status, first_purchase_year, first_purchase_month, renewal_month, renewal_year, years_active, renewal_amount_due_usd_per_license]\n",
       "Index: []\n",
       "\n",
       "[0 rows x 23 columns]"
      ]
     },
     "execution_count": 32,
     "metadata": {},
     "output_type": "execute_result"
    }
   ],
   "source": [
    "df.loc[df.total_participants.isnull() & df.audio_duration != 0.0]"
   ]
  },
  {
   "cell_type": "markdown",
   "metadata": {},
   "source": [
    "### `webcam_duration`\n",
    "\n",
    "- missing data\n",
    "- all rows with missing webcam have 0.0 audio usage"
   ]
  },
  {
   "cell_type": "code",
   "execution_count": 149,
   "metadata": {},
   "outputs": [
    {
     "name": "stdout",
     "output_type": "stream",
     "text": [
      "Min: 0.0\n",
      "Max: 140688.47\n",
      "Mean: 218.77620579415628\n"
     ]
    }
   ],
   "source": [
    "l = list(df.dropna(subset=['webcam_duration']).webcam_duration)\n",
    "\n",
    "print(\"Min: {}\".format(min(l)))\n",
    "print(\"Max: {}\".format(max(l)))\n",
    "print(\"Mean: {}\".format(np.mean(l)))"
   ]
  },
  {
   "cell_type": "code",
   "execution_count": 5,
   "metadata": {},
   "outputs": [
    {
     "data": {
      "text/html": [
       "<div>\n",
       "<style scoped>\n",
       "    .dataframe tbody tr th:only-of-type {\n",
       "        vertical-align: middle;\n",
       "    }\n",
       "\n",
       "    .dataframe tbody tr th {\n",
       "        vertical-align: top;\n",
       "    }\n",
       "\n",
       "    .dataframe thead th {\n",
       "        text-align: right;\n",
       "    }\n",
       "</style>\n",
       "<table border=\"1\" class=\"dataframe\">\n",
       "  <thead>\n",
       "    <tr style=\"text-align: right;\">\n",
       "      <th></th>\n",
       "      <th>userid</th>\n",
       "      <th>first_purchase_date</th>\n",
       "      <th>renewal_date</th>\n",
       "      <th>renewal_amount_due_usd</th>\n",
       "      <th>licenses</th>\n",
       "      <th>assigned_licenses</th>\n",
       "      <th>market</th>\n",
       "      <th>billing_country</th>\n",
       "      <th>billing_state</th>\n",
       "      <th>channel</th>\n",
       "      <th>...</th>\n",
       "      <th>total_participants</th>\n",
       "      <th>webcam_duration</th>\n",
       "      <th>audio_duration</th>\n",
       "      <th>Renew_Status</th>\n",
       "      <th>first_purchase_year</th>\n",
       "      <th>first_purchase_month</th>\n",
       "      <th>renewal_month</th>\n",
       "      <th>renewal_year</th>\n",
       "      <th>years_active</th>\n",
       "      <th>renewal_amount_due_usd_per_license</th>\n",
       "    </tr>\n",
       "  </thead>\n",
       "  <tbody>\n",
       "  </tbody>\n",
       "</table>\n",
       "<p>0 rows × 23 columns</p>\n",
       "</div>"
      ],
      "text/plain": [
       "Empty DataFrame\n",
       "Columns: [userid, first_purchase_date, renewal_date, renewal_amount_due_usd, licenses, assigned_licenses, market, billing_country, billing_state, channel, total_meetings_30days, total_meetings_30to60days, meetingdays, total_participants, webcam_duration, audio_duration, Renew_Status, first_purchase_year, first_purchase_month, renewal_month, renewal_year, years_active, renewal_amount_due_usd_per_license]\n",
       "Index: []\n",
       "\n",
       "[0 rows x 23 columns]"
      ]
     },
     "execution_count": 5,
     "metadata": {},
     "output_type": "execute_result"
    }
   ],
   "source": [
    "df.loc[df.webcam_duration.isnull() & df.audio_duration != 0.0]"
   ]
  },
  {
   "cell_type": "markdown",
   "metadata": {},
   "source": [
    "### Is it ok to just fill na with 0.0?"
   ]
  },
  {
   "cell_type": "code",
   "execution_count": 7,
   "metadata": {},
   "outputs": [],
   "source": [
    "missing = df.loc[df.webcam_duration.isnull()]"
   ]
  },
  {
   "cell_type": "code",
   "execution_count": 12,
   "metadata": {},
   "outputs": [
    {
     "data": {
      "text/plain": [
       "0.350765306122449"
      ]
     },
     "execution_count": 12,
     "metadata": {},
     "output_type": "execute_result"
    }
   ],
   "source": [
    "len(missing.loc[missing.Renew_Status == 'CHURN']) / len(missing)"
   ]
  },
  {
   "cell_type": "code",
   "execution_count": 11,
   "metadata": {},
   "outputs": [
    {
     "data": {
      "text/plain": [
       "0.6492346938775511"
      ]
     },
     "execution_count": 11,
     "metadata": {},
     "output_type": "execute_result"
    }
   ],
   "source": [
    "len(missing.loc[missing.Renew_Status == 'RENEW']) / len(missing)"
   ]
  },
  {
   "cell_type": "markdown",
   "metadata": {},
   "source": [
    "### Conclusion = yes\n"
   ]
  },
  {
   "cell_type": "code",
   "execution_count": 35,
   "metadata": {},
   "outputs": [],
   "source": [
    "df[['total_participants', 'webcam_duration']] = df[['total_participants', 'webcam_duration']].fillna(value=0.0)"
   ]
  },
  {
   "cell_type": "markdown",
   "metadata": {},
   "source": [
    "### `audio_duration`"
   ]
  },
  {
   "cell_type": "code",
   "execution_count": 26,
   "metadata": {},
   "outputs": [],
   "source": [
    "zero = df.loc[df.audio_duration == 0.0]"
   ]
  },
  {
   "cell_type": "code",
   "execution_count": 27,
   "metadata": {},
   "outputs": [
    {
     "data": {
      "text/plain": [
       "0.33227328139078816"
      ]
     },
     "execution_count": 27,
     "metadata": {},
     "output_type": "execute_result"
    }
   ],
   "source": [
    "len(zero.loc[zero.Renew_Status == 'CHURN']) / len(zero)"
   ]
  },
  {
   "cell_type": "code",
   "execution_count": 28,
   "metadata": {},
   "outputs": [
    {
     "data": {
      "text/plain": [
       "0.6677267186092118"
      ]
     },
     "execution_count": 28,
     "metadata": {},
     "output_type": "execute_result"
    }
   ],
   "source": [
    "len(zero.loc[zero.Renew_Status == 'RENEW']) / len(zero)"
   ]
  },
  {
   "cell_type": "code",
   "execution_count": 151,
   "metadata": {},
   "outputs": [
    {
     "name": "stdout",
     "output_type": "stream",
     "text": [
      "Min: 0.0\n",
      "Max: 6495908.62\n",
      "Mean: 2433.7752794319345\n"
     ]
    }
   ],
   "source": [
    "l = list(df.audio_duration)\n",
    "\n",
    "print(\"Min: {}\".format(min(l)))\n",
    "print(\"Max: {}\".format(max(l)))\n",
    "print(\"Mean: {}\".format(np.mean(l)))"
   ]
  },
  {
   "cell_type": "markdown",
   "metadata": {},
   "source": [
    "### `total_usage_duration`\n",
    "\n",
    "- combine webcam and audio usage"
   ]
  },
  {
   "cell_type": "code",
   "execution_count": 37,
   "metadata": {},
   "outputs": [],
   "source": [
    "df['total_usage_duration'] = df.apply(lambda row: row['audio_duration'] + row['webcam_duration'], axis=1)"
   ]
  },
  {
   "cell_type": "markdown",
   "metadata": {},
   "source": [
    "### `Renew_Status`\n",
    "\n",
    "* RENEW\n",
    "* CHURN"
   ]
  },
  {
   "cell_type": "code",
   "execution_count": 152,
   "metadata": {},
   "outputs": [
    {
     "name": "stdout",
     "output_type": "stream",
     "text": [
      "Total RENEW: 46718 [81.109%]\n",
      "Total CHURN: 10881 [18.891%]\n"
     ]
    }
   ],
   "source": [
    "renew = df.loc[df.Renew_Status == 'RENEW']\n",
    "churn = df.loc[df.Renew_Status == 'CHURN']\n",
    "\n",
    "total = len(df)\n",
    "\n",
    "print(\"Total RENEW: {} [{:.3f}%]\".format(len(renew), (len(renew) / total * 100.0)))\n",
    "print(\"Total CHURN: {} [{:.3f}%]\".format(len(churn), (len(churn) / total * 100.0)))"
   ]
  },
  {
   "cell_type": "markdown",
   "metadata": {},
   "source": [
    "## Output to file"
   ]
  },
  {
   "cell_type": "code",
   "execution_count": 41,
   "metadata": {},
   "outputs": [],
   "source": [
    "df.to_csv('../data/cleaned_data.csv', index=False)"
   ]
  },
  {
   "cell_type": "code",
   "execution_count": null,
   "metadata": {},
   "outputs": [],
   "source": []
  }
 ],
 "metadata": {
  "kernelspec": {
   "display_name": "Python 3",
   "language": "python",
   "name": "python3"
  },
  "language_info": {
   "codemirror_mode": {
    "name": "ipython",
    "version": 3
   },
   "file_extension": ".py",
   "mimetype": "text/x-python",
   "name": "python",
   "nbconvert_exporter": "python",
   "pygments_lexer": "ipython3",
   "version": "3.6.5"
  }
 },
 "nbformat": 4,
 "nbformat_minor": 2
}
