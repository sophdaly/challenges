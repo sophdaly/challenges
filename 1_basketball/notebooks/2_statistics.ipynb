{
 "cells": [
  {
   "cell_type": "markdown",
   "metadata": {},
   "source": [
    "# Statistics\n",
    "\n",
    "- Uses numpy for random number generation (assuming this is not cheating?)"
   ]
  },
  {
   "cell_type": "code",
   "execution_count": 8,
   "metadata": {},
   "outputs": [],
   "source": [
    "import numpy as np"
   ]
  },
  {
   "cell_type": "markdown",
   "metadata": {},
   "source": [
    "## Arg Checker"
   ]
  },
  {
   "cell_type": "markdown",
   "metadata": {},
   "source": [
    "#### Limitation: doesn't check values are of correct format"
   ]
  },
  {
   "cell_type": "code",
   "execution_count": 38,
   "metadata": {},
   "outputs": [],
   "source": [
    "def _valid_input(args):\n",
    "    if None in args:\n",
    "        print(\"Input params incorrect - try again!\")\n",
    "        print(\"\\nRequirements:\")\n",
    "        print(\"\\tnormal parmas: num_samples, mean, std_dev\")\n",
    "        print(\"\\tpoisson parmas: num_samples, num_trials, prob_success\")\n",
    "        print(\"\\tbinomial parmas: num_samples, lam\")\n",
    "        return False\n",
    "    return True"
   ]
  },
  {
   "cell_type": "markdown",
   "metadata": {},
   "source": [
    "## Generator"
   ]
  },
  {
   "cell_type": "code",
   "execution_count": 48,
   "metadata": {},
   "outputs": [],
   "source": [
    "def random_number_generator(num_samples, distribution, mean=None, std_dev=None, lam=None, num_trials=None, prob_success=None):\n",
    "    \"\"\"\n",
    "    Draws random numbers from a given distribution\n",
    "    \n",
    "    :param num_samples: num of numbers to generate [int: required]\n",
    "    :param distribution: normal|poisson|binomial [string: required]\n",
    "    :param mean: mean [float: required for normal]\n",
    "    :param std_dev: std dev [float: required for normal]\n",
    "    :param lam: ave num successes >0 [float: required for poisson]\n",
    "    :param num_trials: num_trials > 0 [int: required for binomial]\n",
    "    :param prob_success: 0 < prob(success) < 1  [float: required for binomial]\n",
    "    :return: numpy array of shape (num_samples,)\n",
    "    \"\"\"\n",
    "\n",
    "    if distribution.lower() == 'normal':\n",
    "        if _valid_input(args=[num_samples, mean, std_dev]):\n",
    "            return np.random.normal(loc=mean, scale=std_dev, size=num_samples)\n",
    "\n",
    "    elif distribution.lower() == 'poisson':\n",
    "        if _valid_input(args=[num_samples, lam]):\n",
    "            return np.random.poisson(lam=lam, size=num_samples)\n",
    "    \n",
    "    elif distribution.lower() == 'binomial':\n",
    "        if _valid_input(args=[num_samples, num_trials, prob_success]):\n",
    "            return np.random.binomial(n=num_trials, p=prob_success, size=num_samples)\n",
    "    \n",
    "    else:\n",
    "        print(\"Hmm... I don't know this {} distribution?\".format(distribution))"
   ]
  },
  {
   "cell_type": "markdown",
   "metadata": {},
   "source": [
    "# Examples"
   ]
  },
  {
   "cell_type": "markdown",
   "metadata": {},
   "source": [
    "### Normal"
   ]
  },
  {
   "cell_type": "code",
   "execution_count": 58,
   "metadata": {},
   "outputs": [
    {
     "data": {
      "text/plain": [
       "array([  66.44698692,  -50.43139836,  -35.10990622,  -35.33047281,\n",
       "         10.0480059 ,  -42.96690023,  180.18237238,  -65.74089907,\n",
       "       -212.05461128,  120.94415897])"
      ]
     },
     "execution_count": 58,
     "metadata": {},
     "output_type": "execute_result"
    }
   ],
   "source": [
    "random_number_generator(num_samples=10, \n",
    "                        distribution='normal', \n",
    "                        mean=-23, \n",
    "                        std_dev=100)"
   ]
  },
  {
   "cell_type": "markdown",
   "metadata": {},
   "source": [
    "## Poisson"
   ]
  },
  {
   "cell_type": "code",
   "execution_count": 56,
   "metadata": {
    "scrolled": true
   },
   "outputs": [
    {
     "data": {
      "text/plain": [
       "array([ 77,  94,  70,  91,  87, 113,  99,  89,  91,  89])"
      ]
     },
     "execution_count": 56,
     "metadata": {},
     "output_type": "execute_result"
    }
   ],
   "source": [
    "random_number_generator(num_samples=10, \n",
    "                        distribution='poisson',\n",
    "                        lam=90)"
   ]
  },
  {
   "cell_type": "markdown",
   "metadata": {},
   "source": [
    "## Binomial"
   ]
  },
  {
   "cell_type": "code",
   "execution_count": 57,
   "metadata": {},
   "outputs": [
    {
     "data": {
      "text/plain": [
       "array([5, 3, 3, 5, 5, 3, 7, 1, 2, 4])"
      ]
     },
     "execution_count": 57,
     "metadata": {},
     "output_type": "execute_result"
    }
   ],
   "source": [
    "random_number_generator(num_samples=10, \n",
    "                        distribution='binomial',\n",
    "                        prob_success=0.3,\n",
    "                        num_trials=13)"
   ]
  }
 ],
 "metadata": {
  "kernelspec": {
   "display_name": "Python 3",
   "language": "python",
   "name": "python3"
  },
  "language_info": {
   "codemirror_mode": {
    "name": "ipython",
    "version": 3
   },
   "file_extension": ".py",
   "mimetype": "text/x-python",
   "name": "python",
   "nbconvert_exporter": "python",
   "pygments_lexer": "ipython3",
   "version": "3.6.5"
  }
 },
 "nbformat": 4,
 "nbformat_minor": 2
}
