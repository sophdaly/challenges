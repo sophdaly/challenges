{
 "cells": [
  {
   "cell_type": "markdown",
   "metadata": {},
   "source": [
    "# Data Analytics\n",
    "\n",
    "#### Background Info / Assumptions\n",
    "\n",
    "- NBA playoffs are a best-of-seven elimination tournament annually held after the National Basketball Association's regular season to determine the league's champion\n",
    "- Playoffs should be better players? \n",
    "- 4 periods per game  (but upto 8 for some games - extra time?)\n",
    "- 12 minutes per period\n",
    "- Time field is descending clock time of free throw \n",
    "- Winning teams: teams who make finals = teams who play the most games in the playoffs? => winner is highest scoring team with most games in final? \n",
    "- 16 teams make it to playoffs per season?\n",
    "\"The first round of the NBA playoffs, or conference quarterfinals, consists of four match-ups in each conference based on the seedings (1–8, 2–7, 3–6, and 4–5). The four winners advance to the second round, or conference semifinals, with a match-up between the 1–8 and 4–5 winners and a match-up between the 2–7 and 3–6 winners. The two winners advance to the third round, or conference finals. The winner from each conference will advance to the final round, or the NBA Finals.\"\n",
    "\n",
    "#### Open Questions / Ideas\n",
    "\n",
    "- Correlation between scoring free throw when team already winning vs losing?\n",
    "- Correlation between scoring free throw and period of game?\n",
    "- Scoring streak - num games without misses for players?\n",
    "- Scoring free throw to win game?\n",
    "- Playoffs scores are top scorers in regular games because teams making it to playoff?\n",
    "- Top scorers in Regulars become top scorers in playoffs\n",
    "- High scoring games have more free throws - excl extra time \n",
    "\n",
    "\n",
    "## Data\n",
    "\n",
    "#### Existing\n",
    "```\n",
    "end_result    string 'score_a - score_b'\n",
    "game          string 'team_a - team_b'\n",
    "game_id       int\n",
    "period        int {1-8}\n",
    "play          string description 'player_x misses/makes free throw 1/2 of 2'\n",
    "player        string name\n",
    "playoffs      categorical 'playoffs/regular'\n",
    "score         string 'score_a - score_b'\n",
    "season        string 'start_year - end_year'\n",
    "shot_made     int bool\n",
    "time          string \n",
    "```\n",
    "\n",
    "#### New\n",
    "```\n",
    "team_a        categorical\n",
    "team_b        categorical\n",
    "score_a       int\n",
    "score_b       int\n",
    "winner        categorical\n",
    "```"
   ]
  },
  {
   "cell_type": "markdown",
   "metadata": {},
   "source": [
    "## Imports"
   ]
  },
  {
   "cell_type": "code",
   "execution_count": 1,
   "metadata": {},
   "outputs": [],
   "source": [
    "%load_ext autoreload\n",
    "%autoreload 2\n",
    "\n",
    "import matplotlib.pyplot as plt\n",
    "import pandas as pd\n",
    "import sys\n",
    "import os\n",
    "\n",
    "sys.path.insert(1, os.path.join(sys.path[0], '..'))\n",
    "\n",
    "from src.data_manipulation import add_winning_team, create_team_per_season_scores_df, get_winning_teams_per_season, get_top_scoring_teams_per_season\n",
    "from src.utilities import add_info_a, add_info_b"
   ]
  },
  {
   "cell_type": "markdown",
   "metadata": {},
   "source": [
    "## Data"
   ]
  },
  {
   "cell_type": "code",
   "execution_count": 2,
   "metadata": {},
   "outputs": [],
   "source": [
    "dtype={'game_id': int, 'period': int}\n",
    "\n",
    "df = pd.read_csv('../../data/free_throws.csv', dtype=dtype)"
   ]
  },
  {
   "cell_type": "markdown",
   "metadata": {},
   "source": [
    "### Add additional fields"
   ]
  },
  {
   "cell_type": "code",
   "execution_count": 3,
   "metadata": {},
   "outputs": [],
   "source": [
    "# Add team fields to identify teams in game\n",
    "df['team_a'] = df.game.apply(add_info_a)\n",
    "df['team_b'] = df.game.apply(add_info_b)\n",
    "\n",
    "# Add score fields to identify corresponding end result scores\n",
    "df['score_a'] = df.end_result.apply(add_info_a)\n",
    "df['score_b'] = df.end_result.apply(add_info_b)\n",
    "\n",
    "# Convert scores to ints\n",
    "df['score_a'] = pd.to_numeric(df['score_a'])\n",
    "df['score_b'] = pd.to_numeric(df['score_b'])\n",
    "\n",
    "# Add winning team\n",
    "df['winner'] = df.apply(add_winning_team, axis=1)"
   ]
  },
  {
   "cell_type": "markdown",
   "metadata": {},
   "source": [
    "### Log info"
   ]
  },
  {
   "cell_type": "code",
   "execution_count": 4,
   "metadata": {},
   "outputs": [
    {
     "name": "stdout",
     "output_type": "stream",
     "text": [
      "Total teams: 34\n",
      "Total seasons: 10\n",
      "Total regular games: 12038 [93.51%]\n",
      "Total playoff games: 836 [6.49%]\n",
      "Total scoring players: 1098\n",
      "Total scoring players in regulars: 1097\n",
      "Total scoring players in playoffs: 592\n"
     ]
    }
   ],
   "source": [
    "teams = set(df.team_a) | set(df.team_b)\n",
    "seasons = set(df.season)\n",
    "total_games = len(set(df.game_id))\n",
    "\n",
    "regular_games = df.loc[df.playoffs == 'regular']\n",
    "playoff_games = df.loc[df.playoffs == 'playoffs']\n",
    "\n",
    "total_reg = len(set(regular_games.game_id))\n",
    "total_playoff = len(set(playoff_games.game_id))\n",
    "\n",
    "print(\"Total teams: {}\".format(len(teams)))\n",
    "print(\"Total seasons: {}\".format(len(set(df.season))))\n",
    "print(\"Total regular games: {} [{:.2f}%]\".format(total_reg, total_reg/total_games * 100.0))\n",
    "print(\"Total playoff games: {} [{:.2f}%]\".format(total_playoff, total_playoff/total_games * 100.0))\n",
    "print(\"Total scoring players: {}\".format(len(set(df.player))))\n",
    "print(\"Total scoring players in regulars: {}\".format(len(set(regular_games.player))))\n",
    "print(\"Total scoring players in playoffs: {}\".format(len(set(playoff_games.player))))"
   ]
  },
  {
   "cell_type": "markdown",
   "metadata": {},
   "source": [
    "# Visualisation\n",
    "\n",
    "## Q: Are highest scoring teams per season the winning teams?\n",
    "## A: No 😅"
   ]
  },
  {
   "cell_type": "markdown",
   "metadata": {},
   "source": [
    "#### Just look at playoffs for simplicity\n",
    "\n",
    "- gold winners: teams who've won the most games per season\n",
    "- silver winners: teams who've won the second most games per season\n",
    "- top scorers: teams with highest total scores per season"
   ]
  },
  {
   "cell_type": "code",
   "execution_count": 5,
   "metadata": {},
   "outputs": [
    {
     "name": "stdout",
     "output_type": "stream",
     "text": [
      "SEASON\t\tTOP SCORERS\tGOLD WINNERS\tSILVER WINNERS\n",
      "2006 - 2007\tSA\t\tCLE\t\tUTAH\n",
      "2007 - 2008\tBOS\t\tBOS\t\tLAL\n",
      "2008 - 2009\tLAL\t\tORL\t\tLAL\n",
      "2009 - 2010\tLAL\t\tBOS\t\tLAL\n",
      "2010 - 2011\tDAL\t\tMIA\t\tDAL\n",
      "2011 - 2012\tMIA\t\tOKC\t\tMIA\n",
      "2012 - 2013\tMIA\t\tSA\t\tMIA\n",
      "2013 - 2014\tSA\t\tSA\t\tMIA\n",
      "2014 - 2015\tGS\t\tGS\t\tCLE\n",
      "2015 - 2016\tGS\t\tCLE\t\tGS\n"
     ]
    }
   ],
   "source": [
    "gold_winners, silver_winners = get_winning_teams_per_season(playoff_games)\n",
    "top_scoring_teams = get_top_scoring_teams_per_season(playoff_games)\n",
    "\n",
    "print(\"SEASON\\t\\tTOP SCORERS\\tGOLD WINNERS\\tSILVER WINNERS\")\n",
    "for seas in sorted(seasons):\n",
    "    winner1 = gold_winners[seas]\n",
    "    winner2 = silver_winners[seas]\n",
    "    top_scorer = top_scoring_teams[seas]\n",
    "    \n",
    "    print(\"{}\\t{}\\t\\t{}\\t\\t{}\".format(seas, top_scorer, winner1, winner2))"
   ]
  },
  {
   "cell_type": "code",
   "execution_count": 22,
   "metadata": {},
   "outputs": [],
   "source": [
    "gold_scores_df = create_team_per_season_scores_df(df=playoff_games, teams_per_season_dict=gold_winners)\n",
    "silver_scores_df = create_team_per_season_scores_df(df=playoff_games, teams_per_season_dict=silver_winners)\n",
    "top_scores_df = create_team_per_season_scores_df(df=playoff_games, teams_per_season_dict=top_scoring_teams)\n",
    "\n",
    "gold_scores_df.columns=['gold_winning_team', 'gold_winning_total_points']\n",
    "silver_scores_df.columns=['silver_winning_team', 'silver_winning_total_points']\n",
    "top_scores_df.columns=['top_scoring_team', 'top_total_points']\n",
    "\n",
    "scores_df = gold_scores_df.merge(silver_scores_df, left_index=True, right_index=True)\n",
    "scores_df = scores_df.merge(top_scores_df, left_index=True, right_index=True)"
   ]
  },
  {
   "cell_type": "code",
   "execution_count": 8,
   "metadata": {},
   "outputs": [
    {
     "data": {
      "text/html": [
       "<div>\n",
       "<style scoped>\n",
       "    .dataframe tbody tr th:only-of-type {\n",
       "        vertical-align: middle;\n",
       "    }\n",
       "\n",
       "    .dataframe tbody tr th {\n",
       "        vertical-align: top;\n",
       "    }\n",
       "\n",
       "    .dataframe thead th {\n",
       "        text-align: right;\n",
       "    }\n",
       "</style>\n",
       "<table border=\"1\" class=\"dataframe\">\n",
       "  <thead>\n",
       "    <tr style=\"text-align: right;\">\n",
       "      <th></th>\n",
       "      <th>gold_winning_team</th>\n",
       "      <th>gold_winning_total_points</th>\n",
       "      <th>silver_winning_team</th>\n",
       "      <th>silver_winning_total_points</th>\n",
       "      <th>top_scoring_team</th>\n",
       "      <th>top_total_points</th>\n",
       "    </tr>\n",
       "    <tr>\n",
       "      <th>season</th>\n",
       "      <th></th>\n",
       "      <th></th>\n",
       "      <th></th>\n",
       "      <th></th>\n",
       "      <th></th>\n",
       "      <th></th>\n",
       "    </tr>\n",
       "  </thead>\n",
       "  <tbody>\n",
       "    <tr>\n",
       "      <th>2006 - 2007</th>\n",
       "      <td>CLE</td>\n",
       "      <td>1776</td>\n",
       "      <td>UTAH</td>\n",
       "      <td>1664</td>\n",
       "      <td>SA</td>\n",
       "      <td>1913</td>\n",
       "    </tr>\n",
       "    <tr>\n",
       "      <th>2007 - 2008</th>\n",
       "      <td>BOS</td>\n",
       "      <td>2444</td>\n",
       "      <td>LAL</td>\n",
       "      <td>2151</td>\n",
       "      <td>BOS</td>\n",
       "      <td>2444</td>\n",
       "    </tr>\n",
       "    <tr>\n",
       "      <th>2008 - 2009</th>\n",
       "      <td>ORL</td>\n",
       "      <td>2327</td>\n",
       "      <td>LAL</td>\n",
       "      <td>2355</td>\n",
       "      <td>LAL</td>\n",
       "      <td>2355</td>\n",
       "    </tr>\n",
       "    <tr>\n",
       "      <th>2009 - 2010</th>\n",
       "      <td>BOS</td>\n",
       "      <td>2253</td>\n",
       "      <td>LAL</td>\n",
       "      <td>2325</td>\n",
       "      <td>LAL</td>\n",
       "      <td>2325</td>\n",
       "    </tr>\n",
       "    <tr>\n",
       "      <th>2010 - 2011</th>\n",
       "      <td>MIA</td>\n",
       "      <td>1948</td>\n",
       "      <td>DAL</td>\n",
       "      <td>2063</td>\n",
       "      <td>DAL</td>\n",
       "      <td>2063</td>\n",
       "    </tr>\n",
       "    <tr>\n",
       "      <th>2011 - 2012</th>\n",
       "      <td>OKC</td>\n",
       "      <td>2025</td>\n",
       "      <td>MIA</td>\n",
       "      <td>2239</td>\n",
       "      <td>MIA</td>\n",
       "      <td>2239</td>\n",
       "    </tr>\n",
       "    <tr>\n",
       "      <th>2012 - 2013</th>\n",
       "      <td>SA</td>\n",
       "      <td>2107</td>\n",
       "      <td>MIA</td>\n",
       "      <td>2234</td>\n",
       "      <td>MIA</td>\n",
       "      <td>2234</td>\n",
       "    </tr>\n",
       "    <tr>\n",
       "      <th>2013 - 2014</th>\n",
       "      <td>SA</td>\n",
       "      <td>2446</td>\n",
       "      <td>MIA</td>\n",
       "      <td>1945</td>\n",
       "      <td>SA</td>\n",
       "      <td>2446</td>\n",
       "    </tr>\n",
       "    <tr>\n",
       "      <th>2014 - 2015</th>\n",
       "      <td>GS</td>\n",
       "      <td>2169</td>\n",
       "      <td>CLE</td>\n",
       "      <td>1980</td>\n",
       "      <td>GS</td>\n",
       "      <td>2169</td>\n",
       "    </tr>\n",
       "    <tr>\n",
       "      <th>2015 - 2016</th>\n",
       "      <td>CLE</td>\n",
       "      <td>2200</td>\n",
       "      <td>GS</td>\n",
       "      <td>2585</td>\n",
       "      <td>GS</td>\n",
       "      <td>2585</td>\n",
       "    </tr>\n",
       "  </tbody>\n",
       "</table>\n",
       "</div>"
      ],
      "text/plain": [
       "            gold_winning_team  gold_winning_total_points silver_winning_team  \\\n",
       "season                                                                         \n",
       "2006 - 2007               CLE                       1776                UTAH   \n",
       "2007 - 2008               BOS                       2444                 LAL   \n",
       "2008 - 2009               ORL                       2327                 LAL   \n",
       "2009 - 2010               BOS                       2253                 LAL   \n",
       "2010 - 2011               MIA                       1948                 DAL   \n",
       "2011 - 2012               OKC                       2025                 MIA   \n",
       "2012 - 2013                SA                       2107                 MIA   \n",
       "2013 - 2014                SA                       2446                 MIA   \n",
       "2014 - 2015                GS                       2169                 CLE   \n",
       "2015 - 2016               CLE                       2200                  GS   \n",
       "\n",
       "             silver_winning_total_points top_scoring_team  top_total_points  \n",
       "season                                                                       \n",
       "2006 - 2007                         1664               SA              1913  \n",
       "2007 - 2008                         2151              BOS              2444  \n",
       "2008 - 2009                         2355              LAL              2355  \n",
       "2009 - 2010                         2325              LAL              2325  \n",
       "2010 - 2011                         2063              DAL              2063  \n",
       "2011 - 2012                         2239              MIA              2239  \n",
       "2012 - 2013                         2234              MIA              2234  \n",
       "2013 - 2014                         1945               SA              2446  \n",
       "2014 - 2015                         1980               GS              2169  \n",
       "2015 - 2016                         2585               GS              2585  "
      ]
     },
     "execution_count": 8,
     "metadata": {},
     "output_type": "execute_result"
    }
   ],
   "source": [
    "scores_df"
   ]
  },
  {
   "cell_type": "code",
   "execution_count": 32,
   "metadata": {},
   "outputs": [
    {
     "data": {
      "image/png": "[encoded data removed]",
      "text/plain": [
       "<Figure size 1440x576 with 1 Axes>"
      ]
     },
     "metadata": {
      "needs_background": "light"
     },
     "output_type": "display_data"
    }
   ],
   "source": [
    "ax = scores_df[['gold_winning_total_points', 'silver_winning_total_points', 'top_total_points']].plot.bar(\n",
    "    figsize=(20,8),\n",
    "    title='Total Points Scored during Playoff Games per Season'\n",
    ")\n",
    "\n",
    "names = scores_df[['gold_winning_team', 'silver_winning_team', 'top_scoring_team']].values.flatten()\n",
    "\n",
    "for idx, p in enumerate(ax.patches):\n",
    "    ax.annotate(names[idx], (p.get_x() * 1.001, p.get_height() * 1.005))"
   ]
  },
  {
   "cell_type": "markdown",
   "metadata": {},
   "source": [
    "### Key Points\n",
    "\n",
    "- Winning teams are not necessarly the top scoring teams: 2/10 times \n",
    "- Top scoring teams come in 2nd place more often than 1st: 6/10 times\n"
   ]
  },
  {
   "cell_type": "markdown",
   "metadata": {},
   "source": [
    "### Q: How much less/more points did the top scorers or silver winners score compared to the gold winners?"
   ]
  },
  {
   "cell_type": "code",
   "execution_count": 14,
   "metadata": {},
   "outputs": [
    {
     "data": {
      "text/plain": [
       "<matplotlib.axes._subplots.AxesSubplot at 0x11121c160>"
      ]
     },
     "execution_count": 14,
     "metadata": {},
     "output_type": "execute_result"
    },
    {
     "data": {
      "image/png": "[encoded data removed]",
      "text/plain": [
       "<Figure size 1152x360 with 1 Axes>"
      ]
     },
     "metadata": {
      "needs_background": "light"
     },
     "output_type": "display_data"
    }
   ],
   "source": [
    "def get_point_difference(row, field):\n",
    "    return row[field] - row['gold_winning_total_points']\n",
    "\n",
    "scores_df['top_scoring_team_pts'] = scores_df.apply(lambda r: get_point_difference(r, 'top_total_points'), axis=1)\n",
    "scores_df['silver_winning_team_pts'] = scores_df.apply(lambda r: get_point_difference(r, 'silver_winning_total_points'), axis=1)\n",
    "\n",
    "scores_df[['top_scoring_team_pts', 'silver_winning_team_pts']].plot.bar(\n",
    "    figsize=(16, 5),\n",
    "    title='Increase/Decrease in Number of Points Scored Compared Against Gold Winning Team'\n",
    ")"
   ]
  },
  {
   "cell_type": "markdown",
   "metadata": {},
   "source": [
    "## Output"
   ]
  },
  {
   "cell_type": "code",
   "execution_count": 36,
   "metadata": {},
   "outputs": [],
   "source": [
    "df.to_csv('../../data/formatted_free_throws.csv', index=False)"
   ]
  },
  {
   "cell_type": "code",
   "execution_count": null,
   "metadata": {},
   "outputs": [],
   "source": []
  }
 ],
 "metadata": {
  "kernelspec": {
   "display_name": "Python 3",
   "language": "python",
   "name": "python3"
  },
  "language_info": {
   "codemirror_mode": {
    "name": "ipython",
    "version": 3
   },
   "file_extension": ".py",
   "mimetype": "text/x-python",
   "name": "python",
   "nbconvert_exporter": "python",
   "pygments_lexer": "ipython3",
   "version": "3.6.5"
  }
 },
 "nbformat": 4,
 "nbformat_minor": 2
}
